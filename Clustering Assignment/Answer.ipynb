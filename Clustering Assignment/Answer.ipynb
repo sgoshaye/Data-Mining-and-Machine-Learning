{
  "nbformat": 4,
  "nbformat_minor": 0,
  "metadata": {
    "kernelspec": {
      "display_name": "Python 3",
      "language": "python",
      "name": "python3"
    },
    "language_info": {
      "codemirror_mode": {
        "name": "ipython",
        "version": 3
      },
      "file_extension": ".py",
      "mimetype": "text/x-python",
      "name": "python",
      "nbconvert_exporter": "python",
      "pygments_lexer": "ipython3",
      "version": "3.7.3"
    },
    "colab": {
      "name": "Clustering.ipynb",
      "provenance": [],
      "toc_visible": true
    }
  },
  "cells": [
    {
      "cell_type": "markdown",
      "metadata": {
        "id": "DCkNovqYXhjL",
        "colab_type": "text"
      },
      "source": [
        "Class: CS 4412/01\n",
        "\n",
        "Term: Spring 2020\n",
        "\n",
        "Name: Sepehr Goshayeshi\n",
        "\n",
        "Instructor: Ephina Thendral Surendranath\n",
        "\n",
        "Class Assignment 2"
      ]
    },
    {
      "cell_type": "code",
      "metadata": {
        "id": "Z5PdOGdcXgSO",
        "colab_type": "code",
        "colab": {}
      },
      "source": [
        "import pandas as pd\n",
        "from sklearn.preprocessing import LabelEncoder\n",
        "from sklearn.cluster import KMeans\n",
        "from sklearn.cluster import AgglomerativeClustering\n",
        "import matplotlib.pyplot as plt"
      ],
      "execution_count": 0,
      "outputs": []
    },
    {
      "cell_type": "code",
      "metadata": {
        "id": "FRKJhUECYSPS",
        "colab_type": "code",
        "outputId": "4e1925e8-7c68-4fc4-fc3c-3eb0e053a080",
        "colab": {
          "base_uri": "https://localhost:8080/",
          "height": 125
        }
      },
      "source": [
        "from google.colab import drive\n",
        "drive.mount('/content/drive')"
      ],
      "execution_count": 0,
      "outputs": [
        {
          "output_type": "stream",
          "text": [
            "Go to this URL in a browser: https://accounts.google.com/o/oauth2/auth?client_id=947318989803-6bn6qk8qdgf4n4g3pfee6491hc0brc4i.apps.googleusercontent.com&redirect_uri=urn%3aietf%3awg%3aoauth%3a2.0%3aoob&response_type=code&scope=email%20https%3a%2f%2fwww.googleapis.com%2fauth%2fdocs.test%20https%3a%2f%2fwww.googleapis.com%2fauth%2fdrive%20https%3a%2f%2fwww.googleapis.com%2fauth%2fdrive.photos.readonly%20https%3a%2f%2fwww.googleapis.com%2fauth%2fpeopleapi.readonly\n",
            "\n",
            "Enter your authorization code:\n",
            "··········\n",
            "Mounted at /content/drive\n"
          ],
          "name": "stdout"
        }
      ]
    },
    {
      "cell_type": "code",
      "metadata": {
        "id": "gHujDAR1XgSU",
        "colab_type": "code",
        "outputId": "a875a2de-c7e6-4020-fb11-3ef70ecdc7d2",
        "colab": {
          "base_uri": "https://localhost:8080/",
          "height": 406
        }
      },
      "source": [
        "all_data = pd.read_csv('/content/drive/My Drive/Live.csv')\n",
        "data =all_data[['status_type', 'num_reactions', 'num_comments', 'num_shares', \n",
        "                'num_likes', 'num_loves', 'num_wows', 'num_hahas', 'num_sads', 'num_angrys']].copy()\n",
        "data[\"status_type\"] = LabelEncoder().fit_transform(data['status_type'])\n",
        "data"
      ],
      "execution_count": 0,
      "outputs": [
        {
          "output_type": "execute_result",
          "data": {
            "text/html": [
              "<div>\n",
              "<style scoped>\n",
              "    .dataframe tbody tr th:only-of-type {\n",
              "        vertical-align: middle;\n",
              "    }\n",
              "\n",
              "    .dataframe tbody tr th {\n",
              "        vertical-align: top;\n",
              "    }\n",
              "\n",
              "    .dataframe thead th {\n",
              "        text-align: right;\n",
              "    }\n",
              "</style>\n",
              "<table border=\"1\" class=\"dataframe\">\n",
              "  <thead>\n",
              "    <tr style=\"text-align: right;\">\n",
              "      <th></th>\n",
              "      <th>status_type</th>\n",
              "      <th>num_reactions</th>\n",
              "      <th>num_comments</th>\n",
              "      <th>num_shares</th>\n",
              "      <th>num_likes</th>\n",
              "      <th>num_loves</th>\n",
              "      <th>num_wows</th>\n",
              "      <th>num_hahas</th>\n",
              "      <th>num_sads</th>\n",
              "      <th>num_angrys</th>\n",
              "    </tr>\n",
              "  </thead>\n",
              "  <tbody>\n",
              "    <tr>\n",
              "      <th>0</th>\n",
              "      <td>3</td>\n",
              "      <td>529</td>\n",
              "      <td>512</td>\n",
              "      <td>262</td>\n",
              "      <td>432</td>\n",
              "      <td>92</td>\n",
              "      <td>3</td>\n",
              "      <td>1</td>\n",
              "      <td>1</td>\n",
              "      <td>0</td>\n",
              "    </tr>\n",
              "    <tr>\n",
              "      <th>1</th>\n",
              "      <td>1</td>\n",
              "      <td>150</td>\n",
              "      <td>0</td>\n",
              "      <td>0</td>\n",
              "      <td>150</td>\n",
              "      <td>0</td>\n",
              "      <td>0</td>\n",
              "      <td>0</td>\n",
              "      <td>0</td>\n",
              "      <td>0</td>\n",
              "    </tr>\n",
              "    <tr>\n",
              "      <th>2</th>\n",
              "      <td>3</td>\n",
              "      <td>227</td>\n",
              "      <td>236</td>\n",
              "      <td>57</td>\n",
              "      <td>204</td>\n",
              "      <td>21</td>\n",
              "      <td>1</td>\n",
              "      <td>1</td>\n",
              "      <td>0</td>\n",
              "      <td>0</td>\n",
              "    </tr>\n",
              "    <tr>\n",
              "      <th>3</th>\n",
              "      <td>1</td>\n",
              "      <td>111</td>\n",
              "      <td>0</td>\n",
              "      <td>0</td>\n",
              "      <td>111</td>\n",
              "      <td>0</td>\n",
              "      <td>0</td>\n",
              "      <td>0</td>\n",
              "      <td>0</td>\n",
              "      <td>0</td>\n",
              "    </tr>\n",
              "    <tr>\n",
              "      <th>4</th>\n",
              "      <td>1</td>\n",
              "      <td>213</td>\n",
              "      <td>0</td>\n",
              "      <td>0</td>\n",
              "      <td>204</td>\n",
              "      <td>9</td>\n",
              "      <td>0</td>\n",
              "      <td>0</td>\n",
              "      <td>0</td>\n",
              "      <td>0</td>\n",
              "    </tr>\n",
              "    <tr>\n",
              "      <th>...</th>\n",
              "      <td>...</td>\n",
              "      <td>...</td>\n",
              "      <td>...</td>\n",
              "      <td>...</td>\n",
              "      <td>...</td>\n",
              "      <td>...</td>\n",
              "      <td>...</td>\n",
              "      <td>...</td>\n",
              "      <td>...</td>\n",
              "      <td>...</td>\n",
              "    </tr>\n",
              "    <tr>\n",
              "      <th>7045</th>\n",
              "      <td>1</td>\n",
              "      <td>89</td>\n",
              "      <td>0</td>\n",
              "      <td>0</td>\n",
              "      <td>89</td>\n",
              "      <td>0</td>\n",
              "      <td>0</td>\n",
              "      <td>0</td>\n",
              "      <td>0</td>\n",
              "      <td>0</td>\n",
              "    </tr>\n",
              "    <tr>\n",
              "      <th>7046</th>\n",
              "      <td>1</td>\n",
              "      <td>16</td>\n",
              "      <td>0</td>\n",
              "      <td>0</td>\n",
              "      <td>14</td>\n",
              "      <td>1</td>\n",
              "      <td>0</td>\n",
              "      <td>1</td>\n",
              "      <td>0</td>\n",
              "      <td>0</td>\n",
              "    </tr>\n",
              "    <tr>\n",
              "      <th>7047</th>\n",
              "      <td>1</td>\n",
              "      <td>2</td>\n",
              "      <td>0</td>\n",
              "      <td>0</td>\n",
              "      <td>1</td>\n",
              "      <td>1</td>\n",
              "      <td>0</td>\n",
              "      <td>0</td>\n",
              "      <td>0</td>\n",
              "      <td>0</td>\n",
              "    </tr>\n",
              "    <tr>\n",
              "      <th>7048</th>\n",
              "      <td>1</td>\n",
              "      <td>351</td>\n",
              "      <td>12</td>\n",
              "      <td>22</td>\n",
              "      <td>349</td>\n",
              "      <td>2</td>\n",
              "      <td>0</td>\n",
              "      <td>0</td>\n",
              "      <td>0</td>\n",
              "      <td>0</td>\n",
              "    </tr>\n",
              "    <tr>\n",
              "      <th>7049</th>\n",
              "      <td>1</td>\n",
              "      <td>17</td>\n",
              "      <td>0</td>\n",
              "      <td>0</td>\n",
              "      <td>17</td>\n",
              "      <td>0</td>\n",
              "      <td>0</td>\n",
              "      <td>0</td>\n",
              "      <td>0</td>\n",
              "      <td>0</td>\n",
              "    </tr>\n",
              "  </tbody>\n",
              "</table>\n",
              "<p>7050 rows × 10 columns</p>\n",
              "</div>"
            ],
            "text/plain": [
              "      status_type  num_reactions  num_comments  ...  num_hahas  num_sads  num_angrys\n",
              "0               3            529           512  ...          1         1           0\n",
              "1               1            150             0  ...          0         0           0\n",
              "2               3            227           236  ...          1         0           0\n",
              "3               1            111             0  ...          0         0           0\n",
              "4               1            213             0  ...          0         0           0\n",
              "...           ...            ...           ...  ...        ...       ...         ...\n",
              "7045            1             89             0  ...          0         0           0\n",
              "7046            1             16             0  ...          1         0           0\n",
              "7047            1              2             0  ...          0         0           0\n",
              "7048            1            351            12  ...          0         0           0\n",
              "7049            1             17             0  ...          0         0           0\n",
              "\n",
              "[7050 rows x 10 columns]"
            ]
          },
          "metadata": {
            "tags": []
          },
          "execution_count": 3
        }
      ]
    },
    {
      "cell_type": "markdown",
      "metadata": {
        "id": "SUnzZ5ncXgSZ",
        "colab_type": "text"
      },
      "source": [
        "### KMeans"
      ]
    },
    {
      "cell_type": "code",
      "metadata": {
        "id": "A9RN3jUgXgSb",
        "colab_type": "code",
        "outputId": "03108ce0-9a99-4376-f121-8ab86a2a8f81",
        "colab": {
          "base_uri": "https://localhost:8080/",
          "height": 158
        }
      },
      "source": [
        "for num_cluster in [4,6,10,12,20]:\n",
        "    kmeans = KMeans(n_clusters=num_cluster, random_state=42).fit(data)\n",
        "    n_uniqes = pd.np.unique(kmeans.labels_,return_counts=True)\n",
        "    print('n_cluster:',num_cluster, end='')\n",
        "    print(' => ', end='')\n",
        "    print(n_uniqes)\n",
        "kmeans = KMeans(n_clusters=10, random_state=42).fit(data)\n",
        "n_uniqes = pd.np.unique(kmeans.labels_,return_counts=True)"
      ],
      "execution_count": 0,
      "outputs": [
        {
          "output_type": "stream",
          "text": [
            "n_cluster: 4 => (array([0, 1, 2, 3], dtype=int32), array([6291,  277,  430,   52]))\n",
            "n_cluster: 6 => (array([0, 1, 2, 3, 4, 5], dtype=int32), array([5947,  105,  367,  216,   11,  404]))\n",
            "n_cluster: 10 => (array([0, 1, 2, 3, 4, 5, 6, 7, 8, 9], dtype=int32), array([4874,   30,  193,  535,    3,  144,  252,   86,   86,  847]))\n",
            "n_cluster: 12 => (array([ 0,  1,  2,  3,  4,  5,  6,  7,  8,  9, 10, 11], dtype=int32), array([4830,   40,  189,  532,    3,  184,  247,   83,   86,  834,   13,\n",
            "          9]))\n",
            "n_cluster: 20 => (array([ 0,  1,  2,  3,  4,  5,  6,  7,  8,  9, 10, 11, 12, 13, 14, 15, 16,\n",
            "       17, 18, 19], dtype=int32), array([4141,   25,  132,    8,   38,   99,   78,  143,    3,   35,  412,\n",
            "        438,   20, 1003,  114,   11,   29,   55,   44,  222]))\n"
          ],
          "name": "stdout"
        }
      ]
    },
    {
      "cell_type": "code",
      "metadata": {
        "id": "uQqqGQPoXgSi",
        "colab_type": "code",
        "outputId": "721cca35-fe40-4ffa-c21a-98f19720a6ce",
        "colab": {
          "base_uri": "https://localhost:8080/",
          "height": 264
        }
      },
      "source": [
        "colors = ['#0000FF','#FF0000','#00FF00','#000000','#00AAFF','#AB00CD','#00FFFF','#FF00FF','#AAAAFF','#84ABFD']\n",
        "plt.scatter(data.index,data['num_reactions'])\n",
        "for i in range(kmeans.n_clusters):\n",
        "    x_plot = data.iloc[kmeans.labels_==i]['num_reactions']\n",
        "    plt.scatter(x_plot.index,x_plot,c=colors[i])"
      ],
      "execution_count": 0,
      "outputs": [
        {
          "output_type": "display_data",
          "data": {
            "image/png": "[encoded data removed]",
            "text/plain": [
              "<Figure size 432x288 with 1 Axes>"
            ]
          },
          "metadata": {
            "tags": []
          }
        }
      ]
    },
    {
      "cell_type": "markdown",
      "metadata": {
        "id": "RMauDrDxXgSm",
        "colab_type": "text"
      },
      "source": [
        "### AgglomerativeClustering"
      ]
    },
    {
      "cell_type": "code",
      "metadata": {
        "id": "f9sGl1VkXgSn",
        "colab_type": "code",
        "outputId": "ec92c2a3-64b3-4621-f240-97e7206fab4d",
        "colab": {
          "base_uri": "https://localhost:8080/",
          "height": 354
        }
      },
      "source": [
        "for num_cluster in [4,10,15]:\n",
        "    for linkage in ['ward', 'complete', 'average', 'single']:\n",
        "        clustering = AgglomerativeClustering(n_clusters=num_cluster,linkage=linkage).fit(data)\n",
        "        n_uniqes = pd.np.unique(clustering.labels_,return_counts=True)\n",
        "        print('n_cluster:',num_cluster, end=' ')\n",
        "        print(f'linkage:{linkage}',end='')\n",
        "        print(' => ', end='')\n",
        "        print(n_uniqes)\n",
        "    print('###########')\n",
        "clustering = AgglomerativeClustering(n_clusters=10,linkage='ward').fit(data)\n",
        "n_uniqes = pd.np.unique(clustering.labels_,return_counts=True)"
      ],
      "execution_count": 0,
      "outputs": [
        {
          "output_type": "stream",
          "text": [
            "n_cluster: 4 linkage:ward => (array([0, 1, 2, 3]), array([ 101,  515, 6121,  313]))\n",
            "n_cluster: 4 linkage:complete => (array([0, 1, 2, 3]), array([  52,  131, 6864,    3]))\n",
            "n_cluster: 4 linkage:average => (array([0, 1, 2, 3]), array([7027,    3,    9,   11]))\n",
            "n_cluster: 4 linkage:single => (array([0, 1, 2, 3]), array([7047,    1,    1,    1]))\n",
            "###########\n",
            "n_cluster: 10 linkage:ward => (array([0, 1, 2, 3, 4, 5, 6, 7, 8, 9]), array([ 218,  219,   28,  627, 4336,  296,   70, 1158,   95,    3]))\n",
            "n_cluster: 10 linkage:complete => (array([0, 1, 2, 3, 4, 5, 6, 7, 8, 9]), array([   9,   43, 6684,   48,   11,    2,  130,    2,  120,    1]))\n",
            "n_cluster: 10 linkage:average => (array([0, 1, 2, 3, 4, 5, 6, 7, 8, 9]), array([   9,  288,   49, 6587,    2,    1,  101,    1,   11,    1]))\n",
            "n_cluster: 10 linkage:single => (array([0, 1, 2, 3, 4, 5, 6, 7, 8, 9]), array([7037,    5,    1,    1,    1,    1,    1,    1,    1,    1]))\n",
            "###########\n",
            "n_cluster: 15 linkage:ward => (array([ 0,  1,  2,  3,  4,  5,  6,  7,  8,  9, 10, 11, 12, 13, 14]), array([ 208,   95,   70, 1158,   56,    9,  459,  182,  162,    3, 4336,\n",
            "         11,   19,  114,  168]))\n",
            "n_cluster: 15 linkage:complete => (array([ 0,  1,  2,  3,  4,  5,  6,  7,  8,  9, 10, 11, 12, 13, 14]), array([ 347,   48,   49,   27,   11, 6337,    6,    2,  120,    1,    3,\n",
            "          2,   15,   81,    1]))\n",
            "n_cluster: 15 linkage:average => (array([ 0,  1,  2,  3,  4,  5,  6,  7,  8,  9, 10, 11, 12, 13, 14]), array([ 101,    8,   84, 6587,   18,   31,    4,    1,   11,    1,    1,\n",
            "          1,  200,    1,    1]))\n",
            "n_cluster: 15 linkage:single => (array([ 0,  1,  2,  3,  4,  5,  6,  7,  8,  9, 10, 11, 12, 13, 14]), array([7032,    3,    2,    1,    1,    1,    2,    1,    1,    1,    1,\n",
            "          1,    1,    1,    1]))\n",
            "###########\n"
          ],
          "name": "stdout"
        }
      ]
    },
    {
      "cell_type": "code",
      "metadata": {
        "id": "QuNKrcgmXgSr",
        "colab_type": "code",
        "outputId": "085fe197-33fb-4bd7-9b7c-cc6f33b32468",
        "colab": {
          "base_uri": "https://localhost:8080/"
        }
      },
      "source": [
        "colors = ['#0000FF','#FF0000','#00FF00','#000000','#00AAFF','#AB00CD','#00FFFF','#FF00FF','#AAAAFF','#84ABFD']\n",
        "for i in range(clustering.n_clusters):\n",
        "    x_plot = data.iloc[clustering.labels_==i]['num_reactions']\n",
        "    plt.scatter(x_plot.index,x_plot,c=colors[i])"
      ],
      "execution_count": 0,
      "outputs": [
        {
          "output_type": "display_data",
          "data": {
            "image/png": "[encoded data removed]",
            "text/plain": [
              "<Figure size 432x288 with 1 Axes>"
            ]
          },
          "metadata": {
            "tags": []
          }
        }
      ]
    }
  ]
}