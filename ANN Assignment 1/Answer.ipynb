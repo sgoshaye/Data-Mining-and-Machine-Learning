{
  "nbformat": 4,
  "nbformat_minor": 0,
  "metadata": {
    "colab": {
      "name": "Assignment2.ipynb",
      "provenance": [],
      "collapsed_sections": [
        "EmD7sENNGC5U",
        "h8x7CuDwG0kt"
      ]
    },
    "kernelspec": {
      "name": "python3",
      "display_name": "Python 3"
    }
  },
  "cells": [
    {
      "cell_type": "markdown",
      "metadata": {
        "id": "1aJScD_NFMNd",
        "colab_type": "text"
      },
      "source": [
        "Class: CS 4267/01\n",
        "\n",
        "Term: Spring 2020\n",
        "\n",
        "Name: Sepehr Goshayeshi\n",
        "\n",
        "Instructor: Dr. Aledhari\n",
        "\n",
        "Assignment 2"
      ]
    },
    {
      "cell_type": "markdown",
      "metadata": {
        "id": "4F6LIqPQlPHF",
        "colab_type": "text"
      },
      "source": [
        "Source for Guide: https://medium.com/@pushkarmandot/build-your-first-deep-learning-neural-network-model-using-keras-in-python-a90b5864116d"
      ]
    },
    {
      "cell_type": "markdown",
      "metadata": {
        "id": "CqDZlreoGNzT",
        "colab_type": "text"
      },
      "source": [
        "Importing the libraries"
      ]
    },
    {
      "cell_type": "code",
      "metadata": {
        "id": "qsyUANlMIMMs",
        "colab_type": "code",
        "outputId": "a2b67b39-9d24-4a89-c4df-a8fb1f145831",
        "colab": {
          "base_uri": "https://localhost:8080/",
          "height": 81
        }
      },
      "source": [
        "import numpy as np\n",
        "import matplotlib.pyplot as plt\n",
        "import pandas as pd\n",
        "from sklearn.preprocessing import LabelEncoder, OneHotEncoder, StandardScaler\n",
        "from sklearn.compose import ColumnTransformer\n",
        "from sklearn.model_selection import train_test_split\n",
        "from sklearn.metrics import confusion_matrix, ConfusionMatrixDisplay, accuracy_score\n",
        "import keras\n",
        "from keras.models import Sequential\n",
        "from keras.layers import Dense, Dropout\n",
        "from sklearn.utils import shuffle"
      ],
      "execution_count": 1,
      "outputs": [
        {
          "output_type": "stream",
          "text": [
            "Using TensorFlow backend.\n"
          ],
          "name": "stderr"
        },
        {
          "output_type": "display_data",
          "data": {
            "text/html": [
              "<p style=\"color: red;\">\n",
              "The default version of TensorFlow in Colab will soon switch to TensorFlow 2.x.<br>\n",
              "We recommend you <a href=\"https://www.tensorflow.org/guide/migrate\" target=\"_blank\">upgrade</a> now \n",
              "or ensure your notebook will continue to use TensorFlow 1.x via the <code>%tensorflow_version 1.x</code> magic:\n",
              "<a href=\"https://colab.research.google.com/notebooks/tensorflow_version.ipynb\" target=\"_blank\">more info</a>.</p>\n"
            ],
            "text/plain": [
              "<IPython.core.display.HTML object>"
            ]
          },
          "metadata": {
            "tags": []
          }
        }
      ]
    },
    {
      "cell_type": "markdown",
      "metadata": {
        "id": "g2uX0dVSGRyD",
        "colab_type": "text"
      },
      "source": [
        "Importing the Dataset"
      ]
    },
    {
      "cell_type": "code",
      "metadata": {
        "id": "pu7ZuSL3Il8E",
        "colab_type": "code",
        "colab": {}
      },
      "source": [
        "dataset = pd.read_csv('/content/drive/My Drive/Bank_Predictions.csv')"
      ],
      "execution_count": 0,
      "outputs": []
    },
    {
      "cell_type": "markdown",
      "metadata": {
        "id": "EmD7sENNGC5U",
        "colab_type": "text"
      },
      "source": [
        "# Part-1: Data preprocessing"
      ]
    },
    {
      "cell_type": "markdown",
      "metadata": {
        "id": "cZqPRMzWGX_C",
        "colab_type": "text"
      },
      "source": [
        "Encoding categorical data labels"
      ]
    },
    {
      "cell_type": "code",
      "metadata": {
        "id": "HKpHoYVmKkdk",
        "colab_type": "code",
        "colab": {}
      },
      "source": [
        "X = dataset.iloc[:,3:13].values #features"
      ],
      "execution_count": 0,
      "outputs": []
    },
    {
      "cell_type": "code",
      "metadata": {
        "id": "jfDkTpSpM6SW",
        "colab_type": "code",
        "colab": {}
      },
      "source": [
        "y = dataset['Acc_Closed'].values #labels"
      ],
      "execution_count": 0,
      "outputs": []
    },
    {
      "cell_type": "code",
      "metadata": {
        "id": "TsfUET9aNKKy",
        "colab_type": "code",
        "colab": {}
      },
      "source": [
        "# for encoding different labels in a  column with values between 0 to n_classes-1.\n",
        "X[:, 1] = LabelEncoder().fit_transform(X[:, 1]) # replacing location names with 0,1,2\n",
        "X[:, 2] = LabelEncoder().fit_transform(X[:, 2]) # replacing gender with 0 and 1"
      ],
      "execution_count": 0,
      "outputs": []
    },
    {
      "cell_type": "code",
      "metadata": {
        "id": "uiHsyVLa7n6G",
        "colab_type": "code",
        "colab": {}
      },
      "source": [
        "# need to create \"dummy variables\" for locations\n",
        "X = ColumnTransformer([('encoder', OneHotEncoder(), [1])], remainder='passthrough').fit_transform(X)\n",
        "X = X[:, 1:]"
      ],
      "execution_count": 0,
      "outputs": []
    },
    {
      "cell_type": "markdown",
      "metadata": {
        "id": "GiOUJDtjGs3c",
        "colab_type": "text"
      },
      "source": [
        "Feature Scaling"
      ]
    },
    {
      "cell_type": "code",
      "metadata": {
        "id": "J8h_jmltcrRl",
        "colab_type": "code",
        "colab": {}
      },
      "source": [
        "X = StandardScaler().fit_transform(X)"
      ],
      "execution_count": 0,
      "outputs": []
    },
    {
      "cell_type": "markdown",
      "metadata": {
        "id": "bdTR5VDKGo71",
        "colab_type": "text"
      },
      "source": [
        "\n",
        "Splitting and Shuffling the Dataset into Training and Test Sets"
      ]
    },
    {
      "cell_type": "code",
      "metadata": {
        "id": "qqzjB7-ZQv_Y",
        "colab_type": "code",
        "colab": {}
      },
      "source": [
        "X_train, X_test, y_train, y_test = train_test_split(X, y, test_size=0.2, random_state=0, shuffle=True)"
      ],
      "execution_count": 0,
      "outputs": []
    },
    {
      "cell_type": "markdown",
      "metadata": {
        "id": "h8x7CuDwG0kt",
        "colab_type": "text"
      },
      "source": [
        "# Part-2: Build the ANN"
      ]
    },
    {
      "cell_type": "markdown",
      "metadata": {
        "id": "FX8CJtKnHsjA",
        "colab_type": "text"
      },
      "source": [
        "ANN Design"
      ]
    },
    {
      "cell_type": "code",
      "metadata": {
        "id": "_6BrTFt3X3lJ",
        "colab_type": "code",
        "outputId": "1845ff62-214c-4cac-8b77-ba742b9f50ba",
        "colab": {
          "base_uri": "https://localhost:8080/",
          "height": 267
        }
      },
      "source": [
        "model = Sequential()\n",
        "# Adding the input layer and the first hidden layer\n",
        "model.add(Dense(6, activation = 'relu', input_dim = 11))\n",
        "# Adding the second hidden layer\n",
        "model.add(Dense(6, activation = 'relu'))\n",
        "# Adding the output layer\n",
        "model.add(Dense(1, activation = 'sigmoid'))\n",
        "# Compiling the ANN\n",
        "model.compile(optimizer=keras.optimizers.Adam(lr=1e-3), loss = 'binary_crossentropy', metrics = ['accuracy'])"
      ],
      "execution_count": 9,
      "outputs": [
        {
          "output_type": "stream",
          "text": [
            "WARNING:tensorflow:From /usr/local/lib/python3.6/dist-packages/keras/backend/tensorflow_backend.py:66: The name tf.get_default_graph is deprecated. Please use tf.compat.v1.get_default_graph instead.\n",
            "\n",
            "WARNING:tensorflow:From /usr/local/lib/python3.6/dist-packages/keras/backend/tensorflow_backend.py:541: The name tf.placeholder is deprecated. Please use tf.compat.v1.placeholder instead.\n",
            "\n",
            "WARNING:tensorflow:From /usr/local/lib/python3.6/dist-packages/keras/backend/tensorflow_backend.py:4432: The name tf.random_uniform is deprecated. Please use tf.random.uniform instead.\n",
            "\n",
            "WARNING:tensorflow:From /usr/local/lib/python3.6/dist-packages/keras/optimizers.py:793: The name tf.train.Optimizer is deprecated. Please use tf.compat.v1.train.Optimizer instead.\n",
            "\n",
            "WARNING:tensorflow:From /usr/local/lib/python3.6/dist-packages/keras/backend/tensorflow_backend.py:3657: The name tf.log is deprecated. Please use tf.math.log instead.\n",
            "\n",
            "WARNING:tensorflow:From /usr/local/lib/python3.6/dist-packages/tensorflow_core/python/ops/nn_impl.py:183: where (from tensorflow.python.ops.array_ops) is deprecated and will be removed in a future version.\n",
            "Instructions for updating:\n",
            "Use tf.where in 2.0, which has the same broadcast rule as np.where\n"
          ],
          "name": "stdout"
        }
      ]
    },
    {
      "cell_type": "markdown",
      "metadata": {
        "id": "vw7aUxPXH8wD",
        "colab_type": "text"
      },
      "source": [
        "Fitting the ANN to the training set"
      ]
    },
    {
      "cell_type": "code",
      "metadata": {
        "id": "8BpnTH46X889",
        "colab_type": "code",
        "outputId": "507ed4db-e393-4da4-a182-3d4067f1973b",
        "colab": {
          "base_uri": "https://localhost:8080/",
          "height": 1000
        }
      },
      "source": [
        "history = model.fit(X_train, y_train, batch_size = 10, nb_epoch = 60, shuffle=True)"
      ],
      "execution_count": 10,
      "outputs": [
        {
          "output_type": "stream",
          "text": [
            "WARNING:tensorflow:From /usr/local/lib/python3.6/dist-packages/keras/backend/tensorflow_backend.py:1033: The name tf.assign_add is deprecated. Please use tf.compat.v1.assign_add instead.\n",
            "\n"
          ],
          "name": "stdout"
        },
        {
          "output_type": "stream",
          "text": [
            "/usr/local/lib/python3.6/dist-packages/ipykernel_launcher.py:1: UserWarning: The `nb_epoch` argument in `fit` has been renamed `epochs`.\n",
            "  \"\"\"Entry point for launching an IPython kernel.\n"
          ],
          "name": "stderr"
        },
        {
          "output_type": "stream",
          "text": [
            "WARNING:tensorflow:From /usr/local/lib/python3.6/dist-packages/keras/backend/tensorflow_backend.py:1020: The name tf.assign is deprecated. Please use tf.compat.v1.assign instead.\n",
            "\n",
            "WARNING:tensorflow:From /usr/local/lib/python3.6/dist-packages/keras/backend/tensorflow_backend.py:3005: The name tf.Session is deprecated. Please use tf.compat.v1.Session instead.\n",
            "\n",
            "Epoch 1/60\n",
            "WARNING:tensorflow:From /usr/local/lib/python3.6/dist-packages/keras/backend/tensorflow_backend.py:190: The name tf.get_default_session is deprecated. Please use tf.compat.v1.get_default_session instead.\n",
            "\n",
            "WARNING:tensorflow:From /usr/local/lib/python3.6/dist-packages/keras/backend/tensorflow_backend.py:197: The name tf.ConfigProto is deprecated. Please use tf.compat.v1.ConfigProto instead.\n",
            "\n",
            "WARNING:tensorflow:From /usr/local/lib/python3.6/dist-packages/keras/backend/tensorflow_backend.py:207: The name tf.global_variables is deprecated. Please use tf.compat.v1.global_variables instead.\n",
            "\n",
            "WARNING:tensorflow:From /usr/local/lib/python3.6/dist-packages/keras/backend/tensorflow_backend.py:216: The name tf.is_variable_initialized is deprecated. Please use tf.compat.v1.is_variable_initialized instead.\n",
            "\n",
            "WARNING:tensorflow:From /usr/local/lib/python3.6/dist-packages/keras/backend/tensorflow_backend.py:223: The name tf.variables_initializer is deprecated. Please use tf.compat.v1.variables_initializer instead.\n",
            "\n",
            "8000/8000 [==============================] - 1s 159us/step - loss: 0.4988 - acc: 0.7965\n",
            "Epoch 2/60\n",
            "8000/8000 [==============================] - 1s 123us/step - loss: 0.4416 - acc: 0.8039\n",
            "Epoch 3/60\n",
            "8000/8000 [==============================] - 1s 127us/step - loss: 0.4209 - acc: 0.8119\n",
            "Epoch 4/60\n",
            "8000/8000 [==============================] - 1s 130us/step - loss: 0.4034 - acc: 0.8181\n",
            "Epoch 5/60\n",
            "8000/8000 [==============================] - 1s 130us/step - loss: 0.3904 - acc: 0.8226\n",
            "Epoch 6/60\n",
            "8000/8000 [==============================] - 1s 123us/step - loss: 0.3819 - acc: 0.8256\n",
            "Epoch 7/60\n",
            "8000/8000 [==============================] - 1s 128us/step - loss: 0.3749 - acc: 0.8330\n",
            "Epoch 8/60\n",
            "8000/8000 [==============================] - 1s 125us/step - loss: 0.3697 - acc: 0.8447\n",
            "Epoch 9/60\n",
            "8000/8000 [==============================] - 1s 125us/step - loss: 0.3656 - acc: 0.8479\n",
            "Epoch 10/60\n",
            "8000/8000 [==============================] - 1s 132us/step - loss: 0.3624 - acc: 0.8530\n",
            "Epoch 11/60\n",
            "8000/8000 [==============================] - 1s 125us/step - loss: 0.3597 - acc: 0.8544\n",
            "Epoch 12/60\n",
            "8000/8000 [==============================] - 1s 126us/step - loss: 0.3574 - acc: 0.8577\n",
            "Epoch 13/60\n",
            "8000/8000 [==============================] - 1s 132us/step - loss: 0.3552 - acc: 0.8579\n",
            "Epoch 14/60\n",
            "8000/8000 [==============================] - 1s 130us/step - loss: 0.3539 - acc: 0.8575\n",
            "Epoch 15/60\n",
            "8000/8000 [==============================] - 1s 127us/step - loss: 0.3520 - acc: 0.8589\n",
            "Epoch 16/60\n",
            "8000/8000 [==============================] - 1s 124us/step - loss: 0.3511 - acc: 0.8594\n",
            "Epoch 17/60\n",
            "8000/8000 [==============================] - 1s 121us/step - loss: 0.3500 - acc: 0.8606\n",
            "Epoch 18/60\n",
            "8000/8000 [==============================] - 1s 123us/step - loss: 0.3489 - acc: 0.8605\n",
            "Epoch 19/60\n",
            "8000/8000 [==============================] - 1s 125us/step - loss: 0.3479 - acc: 0.8606\n",
            "Epoch 20/60\n",
            "8000/8000 [==============================] - 1s 131us/step - loss: 0.3478 - acc: 0.8612\n",
            "Epoch 21/60\n",
            "8000/8000 [==============================] - 1s 132us/step - loss: 0.3471 - acc: 0.8615\n",
            "Epoch 22/60\n",
            "8000/8000 [==============================] - 1s 124us/step - loss: 0.3463 - acc: 0.8607\n",
            "Epoch 23/60\n",
            "8000/8000 [==============================] - 1s 126us/step - loss: 0.3457 - acc: 0.8607\n",
            "Epoch 24/60\n",
            "8000/8000 [==============================] - 1s 126us/step - loss: 0.3446 - acc: 0.8616\n",
            "Epoch 25/60\n",
            "8000/8000 [==============================] - 1s 128us/step - loss: 0.3446 - acc: 0.8630\n",
            "Epoch 26/60\n",
            "8000/8000 [==============================] - 1s 124us/step - loss: 0.3435 - acc: 0.8656\n",
            "Epoch 27/60\n",
            "8000/8000 [==============================] - 1s 120us/step - loss: 0.3431 - acc: 0.8629\n",
            "Epoch 28/60\n",
            "8000/8000 [==============================] - 1s 132us/step - loss: 0.3425 - acc: 0.8624\n",
            "Epoch 29/60\n",
            "8000/8000 [==============================] - 1s 124us/step - loss: 0.3421 - acc: 0.8630\n",
            "Epoch 30/60\n",
            "8000/8000 [==============================] - 1s 126us/step - loss: 0.3411 - acc: 0.8611\n",
            "Epoch 31/60\n",
            "8000/8000 [==============================] - 1s 123us/step - loss: 0.3401 - acc: 0.8631\n",
            "Epoch 32/60\n",
            "8000/8000 [==============================] - 1s 120us/step - loss: 0.3397 - acc: 0.8620\n",
            "Epoch 33/60\n",
            "8000/8000 [==============================] - 1s 120us/step - loss: 0.3395 - acc: 0.8630\n",
            "Epoch 34/60\n",
            "8000/8000 [==============================] - 1s 129us/step - loss: 0.3393 - acc: 0.8634\n",
            "Epoch 35/60\n",
            "8000/8000 [==============================] - 1s 133us/step - loss: 0.3384 - acc: 0.8632\n",
            "Epoch 36/60\n",
            "8000/8000 [==============================] - 1s 129us/step - loss: 0.3381 - acc: 0.8626\n",
            "Epoch 37/60\n",
            "8000/8000 [==============================] - 1s 122us/step - loss: 0.3376 - acc: 0.8631\n",
            "Epoch 38/60\n",
            "8000/8000 [==============================] - 1s 124us/step - loss: 0.3381 - acc: 0.8621\n",
            "Epoch 39/60\n",
            "8000/8000 [==============================] - 1s 123us/step - loss: 0.3377 - acc: 0.8620\n",
            "Epoch 40/60\n",
            "8000/8000 [==============================] - 1s 124us/step - loss: 0.3370 - acc: 0.8631\n",
            "Epoch 41/60\n",
            "8000/8000 [==============================] - 1s 121us/step - loss: 0.3365 - acc: 0.8632\n",
            "Epoch 42/60\n",
            "8000/8000 [==============================] - 1s 122us/step - loss: 0.3367 - acc: 0.8620\n",
            "Epoch 43/60\n",
            "8000/8000 [==============================] - 1s 123us/step - loss: 0.3362 - acc: 0.8640\n",
            "Epoch 44/60\n",
            "8000/8000 [==============================] - 1s 124us/step - loss: 0.3355 - acc: 0.8631\n",
            "Epoch 45/60\n",
            "8000/8000 [==============================] - 1s 124us/step - loss: 0.3353 - acc: 0.8622\n",
            "Epoch 46/60\n",
            "8000/8000 [==============================] - 1s 123us/step - loss: 0.3345 - acc: 0.8634\n",
            "Epoch 47/60\n",
            "8000/8000 [==============================] - 1s 129us/step - loss: 0.3347 - acc: 0.8629\n",
            "Epoch 48/60\n",
            "8000/8000 [==============================] - 1s 125us/step - loss: 0.3347 - acc: 0.8632\n",
            "Epoch 49/60\n",
            "8000/8000 [==============================] - 1s 125us/step - loss: 0.3336 - acc: 0.8654\n",
            "Epoch 50/60\n",
            "8000/8000 [==============================] - 1s 126us/step - loss: 0.3338 - acc: 0.8631\n",
            "Epoch 51/60\n",
            "8000/8000 [==============================] - 1s 124us/step - loss: 0.3336 - acc: 0.8639\n",
            "Epoch 52/60\n",
            "8000/8000 [==============================] - 1s 122us/step - loss: 0.3336 - acc: 0.8635\n",
            "Epoch 53/60\n",
            "8000/8000 [==============================] - 1s 122us/step - loss: 0.3332 - acc: 0.8635\n",
            "Epoch 54/60\n",
            "8000/8000 [==============================] - 1s 125us/step - loss: 0.3327 - acc: 0.8662\n",
            "Epoch 55/60\n",
            "8000/8000 [==============================] - 1s 123us/step - loss: 0.3328 - acc: 0.8636\n",
            "Epoch 56/60\n",
            "8000/8000 [==============================] - 1s 127us/step - loss: 0.3318 - acc: 0.8651\n",
            "Epoch 57/60\n",
            "8000/8000 [==============================] - 1s 126us/step - loss: 0.3324 - acc: 0.8656\n",
            "Epoch 58/60\n",
            "8000/8000 [==============================] - 1s 122us/step - loss: 0.3323 - acc: 0.8646\n",
            "Epoch 59/60\n",
            "8000/8000 [==============================] - 1s 121us/step - loss: 0.3324 - acc: 0.8632\n",
            "Epoch 60/60\n",
            "8000/8000 [==============================] - 1s 126us/step - loss: 0.3317 - acc: 0.8644\n"
          ],
          "name": "stdout"
        }
      ]
    },
    {
      "cell_type": "markdown",
      "metadata": {
        "id": "D9oZPbsCwwJd",
        "colab_type": "text"
      },
      "source": [
        "Plot training loss values"
      ]
    },
    {
      "cell_type": "code",
      "metadata": {
        "id": "ySoEn47lcFXu",
        "colab_type": "code",
        "colab": {
          "base_uri": "https://localhost:8080/",
          "height": 294
        },
        "outputId": "6b55c922-1702-4ab0-84e3-cdb7b0387267"
      },
      "source": [
        "plt.plot(history.history['loss'])\n",
        "plt.title('Model loss')\n",
        "plt.ylabel('Loss')\n",
        "plt.xlabel('Epoch')\n",
        "plt.legend(['Train'], loc='upper left')\n",
        "plt.show()"
      ],
      "execution_count": 11,
      "outputs": [
        {
          "output_type": "display_data",
          "data": {
            "image/png": "[encoded data removed]",
            "text/plain": [
              "<Figure size 432x288 with 1 Axes>"
            ]
          },
          "metadata": {
            "tags": []
          }
        }
      ]
    },
    {
      "cell_type": "markdown",
      "metadata": {
        "id": "Z5x1TJZ6IAIV",
        "colab_type": "text"
      },
      "source": [
        "Predicting the Test set results"
      ]
    },
    {
      "cell_type": "code",
      "metadata": {
        "id": "LYNNUam-d6C5",
        "colab_type": "code",
        "colab": {}
      },
      "source": [
        "y_pred = model.predict(X_test)\n",
        "y_pred = (y_pred > 0.5)"
      ],
      "execution_count": 0,
      "outputs": []
    },
    {
      "cell_type": "markdown",
      "metadata": {
        "id": "HkxUSA-yIEeW",
        "colab_type": "text"
      },
      "source": [
        "Making the confusion Matrix"
      ]
    },
    {
      "cell_type": "code",
      "metadata": {
        "id": "9pdSQesSeFk4",
        "colab_type": "code",
        "outputId": "1fd25aab-e2d3-45a3-c454-319895c6c071",
        "colab": {
          "base_uri": "https://localhost:8080/",
          "height": 296
        }
      },
      "source": [
        "#Plot confusion matrix\n",
        "displayCM = ConfusionMatrixDisplay(confusion_matrix(y_test, y_pred), ['0', '1'])\n",
        "displayCM.plot()"
      ],
      "execution_count": 13,
      "outputs": [
        {
          "output_type": "execute_result",
          "data": {
            "text/plain": [
              "<sklearn.metrics._plot.confusion_matrix.ConfusionMatrixDisplay at 0x7f2ec0d3bd68>"
            ]
          },
          "metadata": {
            "tags": []
          },
          "execution_count": 13
        },
        {
          "output_type": "display_data",
          "data": {
            "image/png": "[encoded data removed]",
            "text/plain": [
              "<Figure size 432x288 with 2 Axes>"
            ]
          },
          "metadata": {
            "tags": []
          }
        }
      ]
    },
    {
      "cell_type": "markdown",
      "metadata": {
        "id": "2yhWqrSlIK51",
        "colab_type": "text"
      },
      "source": [
        "Accuracy Score"
      ]
    },
    {
      "cell_type": "code",
      "metadata": {
        "id": "o_NLt9d44sVh",
        "colab_type": "code",
        "outputId": "1a1e7e0a-826c-4246-9681-63f19f000a68",
        "colab": {
          "base_uri": "https://localhost:8080/",
          "height": 34
        }
      },
      "source": [
        "print('Predictive accuracy for test set is {:.2%}'.format(accuracy_score(y_test, y_pred)))"
      ],
      "execution_count": 14,
      "outputs": [
        {
          "output_type": "stream",
          "text": [
            "Predictive accuracy for test set is 86.15%\n"
          ],
          "name": "stdout"
        }
      ]
    }
  ]
}