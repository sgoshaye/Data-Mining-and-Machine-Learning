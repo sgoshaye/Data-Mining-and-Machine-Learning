{
  "nbformat": 4,
  "nbformat_minor": 0,
  "metadata": {
    "colab": {
      "name": "src.ipynb",
      "provenance": [],
      "collapsed_sections": []
    },
    "kernelspec": {
      "display_name": "Python 3",
      "language": "python",
      "name": "python3"
    },
    "language_info": {
      "codemirror_mode": {
        "name": "ipython",
        "version": 3
      },
      "file_extension": ".py",
      "mimetype": "text/x-python",
      "name": "python",
      "nbconvert_exporter": "python",
      "pygments_lexer": "ipython3",
      "version": "3.7.3"
    }
  },
  "cells": [
    {
      "cell_type": "markdown",
      "metadata": {
        "id": "7oxYrz0UU3SN",
        "colab_type": "text"
      },
      "source": [
        "Class: CS 4412/01\n",
        "\n",
        "Term: Spring 2020\n",
        "\n",
        "Name: Sepehr Goshayeshi\n",
        "\n",
        "Instructor: Ephina Thendral Surendranath\n",
        "\n",
        "Class Assignment 1"
      ]
    },
    {
      "cell_type": "code",
      "metadata": {
        "id": "hVtoIzUXk6_j",
        "colab_type": "code",
        "colab": {
          "base_uri": "https://localhost:8080/",
          "height": 34
        },
        "outputId": "51dd71da-0eb8-46f1-a723-e8104d0ab228"
      },
      "source": [
        "from google.colab import drive\n",
        "drive.mount('/content/drive')"
      ],
      "execution_count": null,
      "outputs": [
        {
          "output_type": "stream",
          "text": [
            "Drive already mounted at /content/drive; to attempt to forcibly remount, call drive.mount(\"/content/drive\", force_remount=True).\n"
          ],
          "name": "stdout"
        }
      ]
    },
    {
      "cell_type": "markdown",
      "metadata": {
        "id": "itjSugQNUywJ",
        "colab_type": "text"
      },
      "source": [
        "## Import Packages"
      ]
    },
    {
      "cell_type": "code",
      "metadata": {
        "colab_type": "code",
        "id": "aKZ6-oBECouK",
        "colab": {}
      },
      "source": [
        "import numpy as np\n",
        "import pandas as pd\n",
        "import matplotlib.pyplot as plt\n",
        "from sklearn.preprocessing import LabelEncoder, OneHotEncoder, StandardScaler\n",
        "from sklearn.tree import DecisionTreeClassifier\n",
        "from sklearn.naive_bayes import GaussianNB\n",
        "from sklearn import svm\n",
        "from sklearn.neural_network import MLPClassifier as mlp\n",
        "from sklearn.model_selection import train_test_split\n",
        "from sklearn.metrics import confusion_matrix, accuracy_score, precision_score, recall_score\n",
        "from sklearn.utils import shuffle\n",
        "import seaborn as sns"
      ],
      "execution_count": null,
      "outputs": []
    },
    {
      "cell_type": "markdown",
      "metadata": {
        "colab_type": "text",
        "id": "YXpvClLQvALx"
      },
      "source": [
        "##Read and Prepare Data##"
      ]
    },
    {
      "cell_type": "code",
      "metadata": {
        "colab_type": "code",
        "id": "tz-61AeH3ir9",
        "colab": {}
      },
      "source": [
        "# load dataset\n",
        "df = pd.read_csv(\"/content/drive/My Drive/data/ecoli.csv\", delim_whitespace=True,header=None)\n",
        "# names to Columns\n",
        "df.columns = ['SeqN', 'mcg', 'gvh', 'lip', 'chg', 'aac', 'alm2', 'alm1', 'pclass']\n",
        "                      \n",
        "df = df.drop('SeqN', axis=1) # don't need this, not feature\n",
        "\n",
        "# Encode Data\n",
        "df.pclass.replace(('cp', 'im', 'pp', 'imU', 'om', 'omL', 'imL', 'imS'),(0,1,2,3,4,5,6,7), inplace=True)\n",
        "\n",
        "# Set X and y Values\n",
        "data = df.values\n",
        "X = data[:,0:7] # seven features\n",
        "y = data[:,7] # pclass "
      ],
      "execution_count": null,
      "outputs": []
    },
    {
      "cell_type": "markdown",
      "metadata": {
        "id": "4-7PmYpat9jz",
        "colab_type": "text"
      },
      "source": [
        "Displaying X and y values"
      ]
    },
    {
      "cell_type": "code",
      "metadata": {
        "id": "LBEiR2H5cK6B",
        "colab_type": "code",
        "colab": {
          "base_uri": "https://localhost:8080/"
        },
        "outputId": "e8e16e10-294e-46c8-e7fb-25c3ea24c484"
      },
      "source": [
        "print(\"Features:\\n\", X)"
      ],
      "execution_count": null,
      "outputs": [
        {
          "output_type": "stream",
          "text": [
            "Features:\n",
            " [[0.49 0.29 0.48 ... 0.56 0.24 0.35]\n",
            " [0.07 0.4  0.48 ... 0.54 0.35 0.44]\n",
            " [0.56 0.4  0.48 ... 0.49 0.37 0.46]\n",
            " ...\n",
            " [0.61 0.6  0.48 ... 0.44 0.39 0.38]\n",
            " [0.59 0.61 0.48 ... 0.42 0.42 0.37]\n",
            " [0.74 0.74 0.48 ... 0.31 0.53 0.52]]\n"
          ],
          "name": "stdout"
        }
      ]
    },
    {
      "cell_type": "code",
      "metadata": {
        "id": "MU9ETfbDn1ZG",
        "colab_type": "code",
        "colab": {
          "base_uri": "https://localhost:8080/"
        },
        "outputId": "2113a15e-c292-42ac-899d-9b4c124d50fb"
      },
      "source": [
        "print(\"Output Classes:\\n\", y)"
      ],
      "execution_count": null,
      "outputs": [
        {
          "output_type": "stream",
          "text": [
            "Output Classes:\n",
            " [0. 0. 0. 0. 0. 0. 0. 0. 0. 0. 0. 0. 0. 0. 0. 0. 0. 0. 0. 0. 0. 0. 0. 0.\n",
            " 0. 0. 0. 0. 0. 0. 0. 0. 0. 0. 0. 0. 0. 0. 0. 0. 0. 0. 0. 0. 0. 0. 0. 0.\n",
            " 0. 0. 0. 0. 0. 0. 0. 0. 0. 0. 0. 0. 0. 0. 0. 0. 0. 0. 0. 0. 0. 0. 0. 0.\n",
            " 0. 0. 0. 0. 0. 0. 0. 0. 0. 0. 0. 0. 0. 0. 0. 0. 0. 0. 0. 0. 0. 0. 0. 0.\n",
            " 0. 0. 0. 0. 0. 0. 0. 0. 0. 0. 0. 0. 0. 0. 0. 0. 0. 0. 0. 0. 0. 0. 0. 0.\n",
            " 0. 0. 0. 0. 0. 0. 0. 0. 0. 0. 0. 0. 0. 0. 0. 0. 0. 0. 0. 0. 0. 0. 0. 1.\n",
            " 1. 1. 1. 1. 1. 1. 1. 1. 1. 1. 1. 1. 1. 1. 1. 1. 1. 1. 1. 1. 1. 1. 1. 1.\n",
            " 1. 1. 1. 1. 1. 1. 1. 1. 1. 1. 1. 1. 1. 1. 1. 1. 1. 1. 1. 1. 1. 1. 1. 1.\n",
            " 1. 1. 1. 1. 1. 1. 1. 1. 1. 1. 1. 1. 1. 1. 1. 1. 1. 1. 1. 1. 1. 1. 1. 1.\n",
            " 1. 1. 1. 1. 7. 7. 6. 6. 3. 3. 3. 3. 3. 3. 3. 3. 3. 3. 3. 3. 3. 3. 3. 3.\n",
            " 3. 3. 3. 3. 3. 3. 3. 3. 3. 3. 3. 3. 3. 3. 3. 3. 3. 3. 3. 4. 4. 4. 4. 4.\n",
            " 4. 4. 4. 4. 4. 4. 4. 4. 4. 4. 4. 4. 4. 4. 4. 5. 5. 5. 5. 5. 2. 2. 2. 2.\n",
            " 2. 2. 2. 2. 2. 2. 2. 2. 2. 2. 2. 2. 2. 2. 2. 2. 2. 2. 2. 2. 2. 2. 2. 2.\n",
            " 2. 2. 2. 2. 2. 2. 2. 2. 2. 2. 2. 2. 2. 2. 2. 2. 2. 2. 2. 2. 2. 2. 2. 2.]\n"
          ],
          "name": "stdout"
        }
      ]
    },
    {
      "cell_type": "markdown",
      "metadata": {
        "id": "usSZ2ACBuCd7",
        "colab_type": "text"
      },
      "source": [
        "Split and Shuffle Data for Training and Testing"
      ]
    },
    {
      "cell_type": "code",
      "metadata": {
        "id": "9mNsjf33uE0N",
        "colab_type": "code",
        "colab": {}
      },
      "source": [
        "X_train, X_test, y_train, y_test = train_test_split(X, y, test_size=0.2, random_state=0, shuffle=True)"
      ],
      "execution_count": null,
      "outputs": []
    },
    {
      "cell_type": "markdown",
      "metadata": {
        "colab_type": "text",
        "id": "o7VV3nJ_vT55"
      },
      "source": [
        "## Neural Network"
      ]
    },
    {
      "cell_type": "code",
      "metadata": {
        "id": "-qBeqGzYcK6M",
        "colab_type": "code",
        "colab": {}
      },
      "source": [
        "nn = mlp(hidden_layer_sizes=(300),activation='relu',max_iter=3000)\n",
        "nn.fit(X_train, y_train)\n",
        "pred = nn.predict(X_test)"
      ],
      "execution_count": null,
      "outputs": []
    },
    {
      "cell_type": "code",
      "metadata": {
        "id": "5RMv6K4KcK6R",
        "colab_type": "code",
        "colab": {
          "base_uri": "https://localhost:8080/",
          "height": 34
        },
        "outputId": "2702ff48-03e5-4d0a-e75a-fa5b2ddfe3e6"
      },
      "source": [
        "nn_acc = accuracy_score(pred, y_test)\n",
        "print('accuracy:',nn_acc)"
      ],
      "execution_count": null,
      "outputs": [
        {
          "output_type": "stream",
          "text": [
            "accuracy: 0.8970588235294118\n"
          ],
          "name": "stdout"
        }
      ]
    },
    {
      "cell_type": "code",
      "metadata": {
        "id": "OYqNKXXycK6V",
        "colab_type": "code",
        "colab": {
          "base_uri": "https://localhost:8080/",
          "height": 428
        },
        "outputId": "ab731e8f-b0cb-43b5-c48c-a40e22b05567"
      },
      "source": [
        "print(confusion_matrix(y_test, pred))\n",
        "sns.heatmap(confusion_matrix(y_test, pred))"
      ],
      "execution_count": null,
      "outputs": [
        {
          "output_type": "stream",
          "text": [
            "[[35  0  0  0  0  0  0  0]\n",
            " [ 1  8  0  0  0  0  0  0]\n",
            " [ 2  0  8  0  0  0  0  0]\n",
            " [ 0  1  0  4  0  0  0  0]\n",
            " [ 0  0  1  0  4  0  0  0]\n",
            " [ 0  0  0  0  0  2  0  0]\n",
            " [ 0  0  0  1  0  0  0  0]\n",
            " [ 0  1  0  0  0  0  0  0]]\n"
          ],
          "name": "stdout"
        },
        {
          "output_type": "execute_result",
          "data": {
            "text/plain": [
              "<matplotlib.axes._subplots.AxesSubplot at 0x7fd048a894e0>"
            ]
          },
          "metadata": {
            "tags": []
          },
          "execution_count": 9
        },
        {
          "output_type": "display_data",
          "data": {
            "image/png": "[encoded data removed]",
            "text/plain": [
              "<Figure size 432x288 with 2 Axes>"
            ]
          },
          "metadata": {
            "tags": []
          }
        }
      ]
    },
    {
      "cell_type": "code",
      "metadata": {
        "id": "3iHgSKoFcK6Z",
        "colab_type": "code",
        "colab": {
          "base_uri": "https://localhost:8080/",
          "height": 52
        },
        "outputId": "f9f566c7-b158-457f-c4a8-96e215ba931c"
      },
      "source": [
        "nn_precision = precision_score(y_test,pred,average='micro')\n",
        "nn_recall = recall_score(y_test,pred,average='micro')\n",
        "print('Precision:',nn_precision)\n",
        "print('Recall:',nn_recall)"
      ],
      "execution_count": null,
      "outputs": [
        {
          "output_type": "stream",
          "text": [
            "Precision: 0.8970588235294118\n",
            "Recall: 0.8970588235294118\n"
          ],
          "name": "stdout"
        }
      ]
    },
    {
      "cell_type": "code",
      "metadata": {
        "id": "8eu4Vn7ZcK6c",
        "colab_type": "code",
        "colab": {
          "base_uri": "https://localhost:8080/",
          "height": 282
        },
        "outputId": "a1f0b890-fcfd-4cff-8887-c6198c450f70"
      },
      "source": [
        "plt.bar(['Precision','Recall','Accuracy'],[nn_precision, nn_recall, nn_acc])"
      ],
      "execution_count": null,
      "outputs": [
        {
          "output_type": "execute_result",
          "data": {
            "text/plain": [
              "<BarContainer object of 3 artists>"
            ]
          },
          "metadata": {
            "tags": []
          },
          "execution_count": 11
        },
        {
          "output_type": "display_data",
          "data": {
            "image/png": "[encoded data removed]",
            "text/plain": [
              "<Figure size 432x288 with 1 Axes>"
            ]
          },
          "metadata": {
            "tags": []
          }
        }
      ]
    },
    {
      "cell_type": "markdown",
      "metadata": {
        "id": "9EWrztemcK6j",
        "colab_type": "text"
      },
      "source": [
        "## Decision Tree Clasifier ##"
      ]
    },
    {
      "cell_type": "code",
      "metadata": {
        "id": "u6ZC35LMcK6k",
        "colab_type": "code",
        "colab": {
          "base_uri": "https://localhost:8080/"
        },
        "outputId": "850af851-93f2-4600-8601-cd94715e684e"
      },
      "source": [
        "dt = DecisionTreeClassifier()\n",
        "dt.fit(X_train, y_train)"
      ],
      "execution_count": null,
      "outputs": [
        {
          "output_type": "execute_result",
          "data": {
            "text/plain": [
              "DecisionTreeClassifier(ccp_alpha=0.0, class_weight=None, criterion='gini',\n",
              "                       max_depth=None, max_features=None, max_leaf_nodes=None,\n",
              "                       min_impurity_decrease=0.0, min_impurity_split=None,\n",
              "                       min_samples_leaf=1, min_samples_split=2,\n",
              "                       min_weight_fraction_leaf=0.0, presort='deprecated',\n",
              "                       random_state=None, splitter='best')"
            ]
          },
          "metadata": {
            "tags": []
          },
          "execution_count": 12
        }
      ]
    },
    {
      "cell_type": "code",
      "metadata": {
        "id": "jXAhbso8cK6o",
        "colab_type": "code",
        "colab": {
          "base_uri": "https://localhost:8080/"
        },
        "outputId": "0cc867d6-d1b4-48ac-e804-c60d12d3be28"
      },
      "source": [
        "predicted = dt.predict(X_test)\n",
        "dt_acc = accuracy_score(y_test, predicted)\n",
        "print('accuracy:',dt_acc)"
      ],
      "execution_count": null,
      "outputs": [
        {
          "output_type": "stream",
          "text": [
            "accuracy: 0.8529411764705882\n"
          ],
          "name": "stdout"
        }
      ]
    },
    {
      "cell_type": "code",
      "metadata": {
        "id": "HQRq9jSAcK6s",
        "colab_type": "code",
        "colab": {
          "base_uri": "https://localhost:8080/"
        },
        "outputId": "14e97204-c23c-4c92-c486-55dcbf7b5500"
      },
      "source": [
        "print(confusion_matrix(y_test, predicted))\n",
        "sns.heatmap(confusion_matrix(y_test, predicted))"
      ],
      "execution_count": null,
      "outputs": [
        {
          "output_type": "stream",
          "text": [
            "[[35  0  0  0  0  0  0  0]\n",
            " [ 1  7  0  1  0  0  0  0]\n",
            " [ 3  0  7  0  0  0  0  0]\n",
            " [ 0  2  0  3  0  0  0  0]\n",
            " [ 0  0  1  0  4  0  0  0]\n",
            " [ 0  0  0  0  0  2  0  0]\n",
            " [ 0  1  0  0  0  0  0  0]\n",
            " [ 0  0  0  1  0  0  0  0]]\n"
          ],
          "name": "stdout"
        },
        {
          "output_type": "execute_result",
          "data": {
            "text/plain": [
              "<matplotlib.axes._subplots.AxesSubplot at 0x7fd0472b1b00>"
            ]
          },
          "metadata": {
            "tags": []
          },
          "execution_count": 14
        },
        {
          "output_type": "display_data",
          "data": {
            "image/png": "[encoded data removed]",
            "text/plain": [
              "<Figure size 432x288 with 2 Axes>"
            ]
          },
          "metadata": {
            "tags": []
          }
        }
      ]
    },
    {
      "cell_type": "code",
      "metadata": {
        "id": "LHbV-897cK6v",
        "colab_type": "code",
        "colab": {
          "base_uri": "https://localhost:8080/"
        },
        "outputId": "fba60069-55b1-47ac-ac6d-d6781e34ac3d"
      },
      "source": [
        "dt_precision = precision_score(y_test,predicted,average='micro')\n",
        "dt_recall = recall_score(y_test,predicted,average='micro')\n",
        "print('Precision:',dt_precision)\n",
        "print('Recall:',dt_recall)"
      ],
      "execution_count": null,
      "outputs": [
        {
          "output_type": "stream",
          "text": [
            "Precision: 0.8529411764705882\n",
            "Recall: 0.8529411764705882\n"
          ],
          "name": "stdout"
        }
      ]
    },
    {
      "cell_type": "code",
      "metadata": {
        "id": "SUvoxwv_cK6z",
        "colab_type": "code",
        "colab": {
          "base_uri": "https://localhost:8080/"
        },
        "outputId": "5682ab50-9aee-474e-bbbf-6b22f166d914"
      },
      "source": [
        "plt.bar(['Precision','Recall','Accuracy'],[dt_precision, dt_recall, dt_acc])"
      ],
      "execution_count": null,
      "outputs": [
        {
          "output_type": "execute_result",
          "data": {
            "text/plain": [
              "<BarContainer object of 3 artists>"
            ]
          },
          "metadata": {
            "tags": []
          },
          "execution_count": 16
        },
        {
          "output_type": "display_data",
          "data": {
            "image/png": "[encoded data removed]",
            "text/plain": [
              "<Figure size 432x288 with 1 Axes>"
            ]
          },
          "metadata": {
            "tags": []
          }
        }
      ]
    },
    {
      "cell_type": "markdown",
      "metadata": {
        "id": "tfChfRX7cK63",
        "colab_type": "text"
      },
      "source": [
        "## Gaussian Naive Bayes ##"
      ]
    },
    {
      "cell_type": "code",
      "metadata": {
        "id": "h3waiPp7cK64",
        "colab_type": "code",
        "colab": {
          "base_uri": "https://localhost:8080/"
        },
        "outputId": "f50e7f01-440d-44e2-c1e9-6cbf4784687a"
      },
      "source": [
        "gb = GaussianNB()\n",
        "gb.fit(X_train, y_train)"
      ],
      "execution_count": null,
      "outputs": [
        {
          "output_type": "execute_result",
          "data": {
            "text/plain": [
              "GaussianNB(priors=None, var_smoothing=1e-09)"
            ]
          },
          "metadata": {
            "tags": []
          },
          "execution_count": 17
        }
      ]
    },
    {
      "cell_type": "code",
      "metadata": {
        "id": "GQCB9xRDcK68",
        "colab_type": "code",
        "colab": {
          "base_uri": "https://localhost:8080/"
        },
        "outputId": "0bd98afb-a7e6-47f2-c0fa-cad30cc2d579"
      },
      "source": [
        "predicted = gb.predict(X_test)\n",
        "gb_acc = accuracy_score(y_test, predicted)\n",
        "print('accuracy:',gb_acc)"
      ],
      "execution_count": null,
      "outputs": [
        {
          "output_type": "stream",
          "text": [
            "accuracy: 0.7941176470588235\n"
          ],
          "name": "stdout"
        }
      ]
    },
    {
      "cell_type": "code",
      "metadata": {
        "id": "AfEfumeTcK7B",
        "colab_type": "code",
        "colab": {
          "base_uri": "https://localhost:8080/"
        },
        "outputId": "1be8f290-6429-4d53-af94-f4f4f56443c0"
      },
      "source": [
        "print(confusion_matrix(y_test, predicted))\n",
        "sns.heatmap(confusion_matrix(y_test, predicted))"
      ],
      "execution_count": null,
      "outputs": [
        {
          "output_type": "stream",
          "text": [
            "[[35  0  0  0  0  0  0  0]\n",
            " [ 4  5  0  0  0  0  0  0]\n",
            " [ 2  0  8  0  0  0  0  0]\n",
            " [ 0  0  2  3  0  0  0  0]\n",
            " [ 0  0  4  0  1  0  0  0]\n",
            " [ 0  0  0  0  0  2  0  0]\n",
            " [ 0  0  0  1  0  0  0  0]\n",
            " [ 0  1  0  0  0  0  0  0]]\n"
          ],
          "name": "stdout"
        },
        {
          "output_type": "execute_result",
          "data": {
            "text/plain": [
              "<matplotlib.axes._subplots.AxesSubplot at 0x7fd0471dbe80>"
            ]
          },
          "metadata": {
            "tags": []
          },
          "execution_count": 19
        },
        {
          "output_type": "display_data",
          "data": {
            "image/png": "[encoded data removed]",
            "text/plain": [
              "<Figure size 432x288 with 2 Axes>"
            ]
          },
          "metadata": {
            "tags": []
          }
        }
      ]
    },
    {
      "cell_type": "code",
      "metadata": {
        "id": "DdKyStkvcK7E",
        "colab_type": "code",
        "colab": {
          "base_uri": "https://localhost:8080/"
        },
        "outputId": "2a2c68f8-58fc-4928-b717-f9598c08ff5e"
      },
      "source": [
        "gb_precision = precision_score(y_test,predicted,average='micro')\n",
        "gb_recall = recall_score(y_test,predicted,average='micro')\n",
        "print('Precision:',gb_precision)\n",
        "print('Recall:',gb_recall)"
      ],
      "execution_count": null,
      "outputs": [
        {
          "output_type": "stream",
          "text": [
            "Precision: 0.7941176470588235\n",
            "Recall: 0.7941176470588235\n"
          ],
          "name": "stdout"
        }
      ]
    },
    {
      "cell_type": "code",
      "metadata": {
        "id": "85ItXfFOcK7H",
        "colab_type": "code",
        "colab": {
          "base_uri": "https://localhost:8080/"
        },
        "outputId": "f69cd2f1-b839-484f-aadc-4bd35b6330e0"
      },
      "source": [
        "plt.bar(['Precision','Recall','Accuracy'],[gb_precision, gb_recall, gb_acc])"
      ],
      "execution_count": null,
      "outputs": [
        {
          "output_type": "execute_result",
          "data": {
            "text/plain": [
              "<BarContainer object of 3 artists>"
            ]
          },
          "metadata": {
            "tags": []
          },
          "execution_count": 21
        },
        {
          "output_type": "display_data",
          "data": {
            "image/png": "[encoded data removed]",
            "text/plain": [
              "<Figure size 432x288 with 1 Axes>"
            ]
          },
          "metadata": {
            "tags": []
          }
        }
      ]
    },
    {
      "cell_type": "markdown",
      "metadata": {
        "id": "OukIZ6EZcK7K",
        "colab_type": "text"
      },
      "source": [
        "## Support Vector Machine ##"
      ]
    },
    {
      "cell_type": "code",
      "metadata": {
        "id": "cQa6CjSJcK7M",
        "colab_type": "code",
        "colab": {
          "base_uri": "https://localhost:8080/"
        },
        "outputId": "d28f5df1-47d4-42e8-d18e-c42af4541d9a"
      },
      "source": [
        "sv = svm.SVC(gamma='auto')\n",
        "sv.fit(X_train, y_train)"
      ],
      "execution_count": null,
      "outputs": [
        {
          "output_type": "execute_result",
          "data": {
            "text/plain": [
              "SVC(C=1.0, break_ties=False, cache_size=200, class_weight=None, coef0=0.0,\n",
              "    decision_function_shape='ovr', degree=3, gamma='auto', kernel='rbf',\n",
              "    max_iter=-1, probability=False, random_state=None, shrinking=True,\n",
              "    tol=0.001, verbose=False)"
            ]
          },
          "metadata": {
            "tags": []
          },
          "execution_count": 22
        }
      ]
    },
    {
      "cell_type": "code",
      "metadata": {
        "id": "L60e-aL3cK7P",
        "colab_type": "code",
        "colab": {
          "base_uri": "https://localhost:8080/"
        },
        "outputId": "df29f2ab-d83d-4685-e5bb-2a75824ccba4"
      },
      "source": [
        "predicted = sv.predict(X_test)\n",
        "acc_svm = accuracy_score(y_test, predicted)\n",
        "print('accuracy:',acc_svm)"
      ],
      "execution_count": null,
      "outputs": [
        {
          "output_type": "stream",
          "text": [
            "accuracy: 0.7205882352941176\n"
          ],
          "name": "stdout"
        }
      ]
    },
    {
      "cell_type": "code",
      "metadata": {
        "id": "nGCg9wslcK7S",
        "colab_type": "code",
        "colab": {
          "base_uri": "https://localhost:8080/"
        },
        "outputId": "b293a743-00ed-4213-8037-d991e2ac5d61"
      },
      "source": [
        "print(confusion_matrix(y_test, predicted))\n",
        "sns.heatmap(confusion_matrix(y_test, predicted))"
      ],
      "execution_count": null,
      "outputs": [
        {
          "output_type": "stream",
          "text": [
            "[[35  0  0  0  0  0  0  0]\n",
            " [ 3  6  0  0  0  0  0  0]\n",
            " [ 2  0  8  0  0  0  0  0]\n",
            " [ 0  5  0  0  0  0  0  0]\n",
            " [ 0  0  5  0  0  0  0  0]\n",
            " [ 0  0  2  0  0  0  0  0]\n",
            " [ 0  1  0  0  0  0  0  0]\n",
            " [ 0  1  0  0  0  0  0  0]]\n"
          ],
          "name": "stdout"
        },
        {
          "output_type": "execute_result",
          "data": {
            "text/plain": [
              "<matplotlib.axes._subplots.AxesSubplot at 0x7fd0470592b0>"
            ]
          },
          "metadata": {
            "tags": []
          },
          "execution_count": 24
        },
        {
          "output_type": "display_data",
          "data": {
            "image/png": "[encoded data removed]",
            "text/plain": [
              "<Figure size 432x288 with 2 Axes>"
            ]
          },
          "metadata": {
            "tags": []
          }
        }
      ]
    },
    {
      "cell_type": "code",
      "metadata": {
        "id": "c7SANzDocK7V",
        "colab_type": "code",
        "colab": {
          "base_uri": "https://localhost:8080/"
        },
        "outputId": "30115dd6-5462-4eef-aaea-bc8ae3c1c379"
      },
      "source": [
        "precision_svm = precision_score(y_test,predicted,average='micro')\n",
        "recall_svm = recall_score(y_test,predicted,average='micro')\n",
        "print('Precision:',precision_svm)\n",
        "print('Recall:',recall_svm)"
      ],
      "execution_count": null,
      "outputs": [
        {
          "output_type": "stream",
          "text": [
            "Precision: 0.7205882352941176\n",
            "Recall: 0.7205882352941176\n"
          ],
          "name": "stdout"
        }
      ]
    },
    {
      "cell_type": "code",
      "metadata": {
        "id": "WJhI8PoucK7Y",
        "colab_type": "code",
        "colab": {
          "base_uri": "https://localhost:8080/"
        },
        "outputId": "aa285379-9845-498d-ecf4-f3c18603a61c"
      },
      "source": [
        "plt.bar(['Precision','Recall','Accuracy'],[precision_svm, recall_svm, acc_svm])"
      ],
      "execution_count": null,
      "outputs": [
        {
          "output_type": "execute_result",
          "data": {
            "text/plain": [
              "<BarContainer object of 3 artists>"
            ]
          },
          "metadata": {
            "tags": []
          },
          "execution_count": 26
        },
        {
          "output_type": "display_data",
          "data": {
            "image/png": "[encoded data removed]",
            "text/plain": [
              "<Figure size 432x288 with 1 Axes>"
            ]
          },
          "metadata": {
            "tags": []
          }
        }
      ]
    },
    {
      "cell_type": "markdown",
      "metadata": {
        "id": "s6en8JLicK7b",
        "colab_type": "text"
      },
      "source": [
        "## Comparing Accuracy for all algorithms ##"
      ]
    },
    {
      "cell_type": "code",
      "metadata": {
        "id": "uBqJ5PVfcK7b",
        "colab_type": "code",
        "colab": {
          "base_uri": "https://localhost:8080/"
        },
        "outputId": "bf98517d-7a22-4a61-ebd9-0010ddd24888"
      },
      "source": [
        "plt.bar(['ANN','Decision Tree','Gaussian Bayes', 'SVM'],[nn_acc, dt_acc, gb_acc, acc_svm])\n",
        "plt.title('Accuracies for all algorithms')\n",
        "plt.show()"
      ],
      "execution_count": null,
      "outputs": [
        {
          "output_type": "display_data",
          "data": {
            "image/png": "[encoded data removed]",
            "text/plain": [
              "<Figure size 432x288 with 1 Axes>"
            ]
          },
          "metadata": {
            "tags": []
          }
        }
      ]
    },
    {
      "cell_type": "code",
      "metadata": {
        "id": "DCBsYCjucK7f",
        "colab_type": "code",
        "colab": {
          "base_uri": "https://localhost:8080/"
        },
        "outputId": "cbfe8c16-abf9-475a-b52a-8ec3a9e5197e"
      },
      "source": [
        "plt.bar(['ANN','Decision Tree','Gaussian Bayes', 'SVM'],[nn_precision, dt_precision, gb_precision, precision_svm])\n",
        "plt.title('Precision for all algorithms')\n",
        "plt.show()"
      ],
      "execution_count": null,
      "outputs": [
        {
          "output_type": "display_data",
          "data": {
            "image/png": "[encoded data removed]",
            "text/plain": [
              "<Figure size 432x288 with 1 Axes>"
            ]
          },
          "metadata": {
            "tags": []
          }
        }
      ]
    },
    {
      "cell_type": "code",
      "metadata": {
        "id": "gfovxHIfcK7j",
        "colab_type": "code",
        "colab": {
          "base_uri": "https://localhost:8080/"
        },
        "outputId": "abe77daf-22e9-4eb2-c893-02e424c27b15"
      },
      "source": [
        "plt.bar(['ANN','Decision Tree','Gaussian Bayes', 'SVM'],[nn_recall, dt_recall, gb_recall, recall_svm])\n",
        "plt.title('Recall for all algorithms')\n",
        "plt.show()"
      ],
      "execution_count": null,
      "outputs": [
        {
          "output_type": "display_data",
          "data": {
            "image/png": "[encoded data removed]",
            "text/plain": [
              "<Figure size 432x288 with 1 Axes>"
            ]
          },
          "metadata": {
            "tags": []
          }
        }
      ]
    }
  ]
}