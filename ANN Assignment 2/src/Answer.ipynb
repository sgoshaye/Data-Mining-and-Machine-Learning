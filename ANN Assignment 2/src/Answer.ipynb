{
 "cells": [
  {
   "cell_type": "markdown",
   "metadata": {
    "colab_type": "text",
    "id": "fNRdH1sKvTLg"
   },
   "source": [
    "Class: CS 4267/01\n",
    "\n",
    "Term: Spring 2020\n",
    "\n",
    "Name: Sepehr Goshayeshi\n",
    "\n",
    "Instructor: Mohammed Aledhari\n",
    "\n",
    "Programming Assignment 3"
   ]
  },
  {
   "cell_type": "markdown",
   "metadata": {
    "colab_type": "text",
    "id": "gSSP1EqxwOsv"
   },
   "source": [
    "## Import Necessary Libraries"
   ]
  },
  {
   "cell_type": "code",
   "execution_count": 1,
   "metadata": {
    "colab": {},
    "colab_type": "code",
    "id": "7oAkesqhuicI"
   },
   "outputs": [
    {
     "name": "stderr",
     "output_type": "stream",
     "text": [
      "Using TensorFlow backend.\n"
     ]
    }
   ],
   "source": [
    "import numpy as np\n",
    "from tensorflow.keras.models import Sequential\n",
    "from tensorflow.keras.layers import Convolution2D, MaxPooling2D, Activation, Flatten, Dense, Dropout, BatchNormalization\n",
    "from tensorflow.keras.preprocessing.image import ImageDataGenerator\n",
    "import matplotlib.pyplot as plt\n",
    "from keras.preprocessing import image\n",
    "from sklearn.metrics import confusion_matrix"
   ]
  },
  {
   "cell_type": "markdown",
   "metadata": {
    "colab_type": "text",
    "id": "ARhbbH81wbMN"
   },
   "source": [
    "## Specify Image Directories"
   ]
  },
  {
   "cell_type": "code",
   "execution_count": 2,
   "metadata": {
    "colab": {},
    "colab_type": "code",
    "id": "fzn5Q4s2wrWp"
   },
   "outputs": [],
   "source": [
    "train_dir = '/floyd/input/catdog_dataset/training_set' # directory with training images\n",
    "test_dir = '/floyd/input/catdog_dataset/test_set' # directory with test images\n",
    "validation_dir = '/floyd/input/catdog_dataset/validation_set' # directory with validation images"
   ]
  },
  {
   "cell_type": "markdown",
   "metadata": {
    "colab_type": "text",
    "id": "M6beOTGuw_4d"
   },
   "source": [
    "## Model Definition"
   ]
  },
  {
   "cell_type": "code",
   "execution_count": 3,
   "metadata": {
    "colab": {},
    "colab_type": "code",
    "id": "8hwhdv4_xIEX"
   },
   "outputs": [],
   "source": [
    "# Initializing the ConvNet\n",
    "model = Sequential()\n",
    "\n",
    "# Step 1 & 2 - Building the Convolution and Pooling Layers\n",
    "model.add(Convolution2D(32, 3, 3, input_shape = (150, 150, 3), activation = 'relu'))\n",
    "model.add(MaxPooling2D(pool_size = (2, 2)))\n",
    "model.add(Dropout(0.5))\n",
    "\n",
    "# Adding The Second Convolutional Layer\n",
    "model.add(Convolution2D(32, 3, 3, activation = 'relu'))\n",
    "model.add(MaxPooling2D(pool_size = (2, 2)))\n",
    "model.add(Dropout(0.5))\n",
    "\n",
    "# Step 3 - Building the Flattening Layer\n",
    "model.add(Flatten())\n",
    "\n",
    "# Step 4 - Building the Fully Connected Layer\n",
    "model.add(Dense(128, activation = 'relu'))\n",
    "model.add(Dense(1, activation = 'sigmoid')) \n",
    "# sigmoid crunches number to between 0 to 1 probability: close to 0 is cat, 1 is dog\n",
    "\n",
    "# Compiling the ConvNet\n",
    "model.compile(optimizer = 'adam', loss = 'binary_crossentropy', metrics = ['accuracy'])"
   ]
  },
  {
   "cell_type": "code",
   "execution_count": 4,
   "metadata": {},
   "outputs": [
    {
     "name": "stdout",
     "output_type": "stream",
     "text": [
      "Model: \"sequential\"\n",
      "_________________________________________________________________\n",
      "Layer (type)                 Output Shape              Param #   \n",
      "=================================================================\n",
      "conv2d (Conv2D)              (None, 50, 50, 32)        896       \n",
      "_________________________________________________________________\n",
      "max_pooling2d (MaxPooling2D) (None, 25, 25, 32)        0         \n",
      "_________________________________________________________________\n",
      "dropout (Dropout)            (None, 25, 25, 32)        0         \n",
      "_________________________________________________________________\n",
      "conv2d_1 (Conv2D)            (None, 8, 8, 32)          9248      \n",
      "_________________________________________________________________\n",
      "max_pooling2d_1 (MaxPooling2 (None, 4, 4, 32)          0         \n",
      "_________________________________________________________________\n",
      "dropout_1 (Dropout)          (None, 4, 4, 32)          0         \n",
      "_________________________________________________________________\n",
      "flatten (Flatten)            (None, 512)               0         \n",
      "_________________________________________________________________\n",
      "dense (Dense)                (None, 128)               65664     \n",
      "_________________________________________________________________\n",
      "dense_1 (Dense)              (None, 1)                 129       \n",
      "=================================================================\n",
      "Total params: 75,937\n",
      "Trainable params: 75,937\n",
      "Non-trainable params: 0\n",
      "_________________________________________________________________\n"
     ]
    }
   ],
   "source": [
    "model.summary()"
   ]
  },
  {
   "cell_type": "markdown",
   "metadata": {
    "colab_type": "text",
    "id": "CDAicLaFx-L8"
   },
   "source": [
    "## Image Generators"
   ]
  },
  {
   "cell_type": "markdown",
   "metadata": {
    "colab_type": "text",
    "id": "LTjkKEnY6q6t"
   },
   "source": [
    "sources: \n",
    "\n",
    "https://blog.keras.io/building-powerful-image-classification-models-using-very-little-data.html\n",
    "\n",
    "https://medium.com/@vijayabhaskar96/tutorial-image-classification-with-keras-flow-from-directory-and-generators-95f75ebe5720"
   ]
  },
  {
   "cell_type": "code",
   "execution_count": 5,
   "metadata": {
    "colab": {},
    "colab_type": "code",
    "id": "y_ICU3txyCvd"
   },
   "outputs": [
    {
     "name": "stdout",
     "output_type": "stream",
     "text": [
      "Found 12000 images belonging to 2 classes.\n",
      "Found 4000 images belonging to 2 classes.\n",
      "Found 4000 images belonging to 2 classes.\n"
     ]
    }
   ],
   "source": [
    "train_datagen = ImageDataGenerator(\n",
    "        rescale=1./255,\n",
    "        shear_range=0.2,\n",
    "        zoom_range=0.2,\n",
    "        horizontal_flip=True)\n",
    "\n",
    "test_datagen = ImageDataGenerator(rescale=1./255) # Rescales images by 1/255\n",
    "\n",
    "validation_datagen = ImageDataGenerator(rescale=1./255) # Rescales images by 1/255\n",
    "\n",
    "train_generator = train_datagen.flow_from_directory(\n",
    "        train_dir,\n",
    "        target_size=(150, 150),\n",
    "        color_mode='rgb',\n",
    "        batch_size=32,\n",
    "        class_mode='binary',\n",
    "        shuffle='true',\n",
    "        seed=42)\n",
    "\n",
    "validation_generator = validation_datagen.flow_from_directory(\n",
    "        validation_dir, \n",
    "        target_size=(150, 150),\n",
    "        batch_size=32,\n",
    "        class_mode='binary') \n",
    "\n",
    "test_generator = test_datagen.flow_from_directory(\n",
    "        test_dir,\n",
    "        target_size=(150, 150),\n",
    "        color_mode='rgb',\n",
    "        batch_size=1,\n",
    "        class_mode='binary',\n",
    "        shuffle='false')"
   ]
  },
  {
   "cell_type": "markdown",
   "metadata": {
    "colab_type": "text",
    "id": "-GOE49Uz1onW"
   },
   "source": [
    "## Train Model"
   ]
  },
  {
   "cell_type": "code",
   "execution_count": 6,
   "metadata": {
    "colab": {},
    "colab_type": "code",
    "id": "0K6IlRy829MX"
   },
   "outputs": [
    {
     "name": "stdout",
     "output_type": "stream",
     "text": [
      "WARNING:tensorflow:From <ipython-input-6-02c6c705f0b2>:3: Model.fit_generator (from tensorflow.python.keras.engine.training) is deprecated and will be removed in a future version.\n",
      "Instructions for updating:\n",
      "Please use Model.fit, which supports generators.\n",
      "WARNING:tensorflow:sample_weight modes were coerced from\n",
      "  ...\n",
      "    to  \n",
      "  ['...']\n",
      "WARNING:tensorflow:sample_weight modes were coerced from\n",
      "  ...\n",
      "    to  \n",
      "  ['...']\n",
      "Train for 375 steps, validate for 125 steps\n",
      "Epoch 1/50\n",
      "375/375 [==============================] - 95s 253ms/step - loss: 0.6867 - accuracy: 0.5388 - val_loss: 0.6737 - val_accuracy: 0.5790\n",
      "Epoch 2/50\n",
      "375/375 [==============================] - 94s 252ms/step - loss: 0.6436 - accuracy: 0.6285 - val_loss: 0.6150 - val_accuracy: 0.6457\n",
      "Epoch 3/50\n",
      "375/375 [==============================] - 94s 251ms/step - loss: 0.6134 - accuracy: 0.6597 - val_loss: 0.5749 - val_accuracy: 0.6898\n",
      "Epoch 4/50\n",
      "375/375 [==============================] - 94s 252ms/step - loss: 0.5949 - accuracy: 0.6797 - val_loss: 0.5609 - val_accuracy: 0.7138\n",
      "Epoch 5/50\n",
      "375/375 [==============================] - 94s 252ms/step - loss: 0.5820 - accuracy: 0.6882 - val_loss: 0.5579 - val_accuracy: 0.7088\n",
      "Epoch 6/50\n",
      "375/375 [==============================] - 94s 251ms/step - loss: 0.5756 - accuracy: 0.6920 - val_loss: 0.5503 - val_accuracy: 0.7163\n",
      "Epoch 7/50\n",
      "375/375 [==============================] - 94s 251ms/step - loss: 0.5728 - accuracy: 0.6961 - val_loss: 0.5476 - val_accuracy: 0.7088\n",
      "Epoch 8/50\n",
      "375/375 [==============================] - 94s 251ms/step - loss: 0.5703 - accuracy: 0.6988 - val_loss: 0.5329 - val_accuracy: 0.7270\n",
      "Epoch 9/50\n",
      "375/375 [==============================] - 94s 251ms/step - loss: 0.5599 - accuracy: 0.7099 - val_loss: 0.5260 - val_accuracy: 0.7240\n",
      "Epoch 10/50\n",
      "375/375 [==============================] - 94s 251ms/step - loss: 0.5587 - accuracy: 0.7082 - val_loss: 0.5295 - val_accuracy: 0.7247\n",
      "Epoch 11/50\n",
      "375/375 [==============================] - 94s 251ms/step - loss: 0.5561 - accuracy: 0.7116 - val_loss: 0.5320 - val_accuracy: 0.7280\n",
      "Epoch 12/50\n",
      "375/375 [==============================] - 94s 251ms/step - loss: 0.5578 - accuracy: 0.7072 - val_loss: 0.5328 - val_accuracy: 0.7205\n",
      "Epoch 13/50\n",
      "375/375 [==============================] - 94s 251ms/step - loss: 0.5556 - accuracy: 0.7110 - val_loss: 0.5307 - val_accuracy: 0.7333\n",
      "Epoch 14/50\n",
      "375/375 [==============================] - 94s 251ms/step - loss: 0.5466 - accuracy: 0.7188 - val_loss: 0.5259 - val_accuracy: 0.7283\n",
      "Epoch 15/50\n",
      "375/375 [==============================] - 94s 251ms/step - loss: 0.5411 - accuracy: 0.7203 - val_loss: 0.5186 - val_accuracy: 0.7345\n",
      "Epoch 16/50\n",
      "375/375 [==============================] - 94s 251ms/step - loss: 0.5443 - accuracy: 0.7157 - val_loss: 0.5085 - val_accuracy: 0.7423\n",
      "Epoch 17/50\n",
      "375/375 [==============================] - 94s 251ms/step - loss: 0.5387 - accuracy: 0.7193 - val_loss: 0.5243 - val_accuracy: 0.7325\n",
      "Epoch 18/50\n",
      "375/375 [==============================] - 94s 251ms/step - loss: 0.5390 - accuracy: 0.7229 - val_loss: 0.5097 - val_accuracy: 0.7383\n",
      "Epoch 19/50\n",
      "375/375 [==============================] - 94s 251ms/step - loss: 0.5379 - accuracy: 0.7224 - val_loss: 0.5032 - val_accuracy: 0.7470\n",
      "Epoch 20/50\n",
      "375/375 [==============================] - 94s 251ms/step - loss: 0.5290 - accuracy: 0.7279 - val_loss: 0.5057 - val_accuracy: 0.7485\n",
      "Epoch 21/50\n",
      "375/375 [==============================] - 94s 251ms/step - loss: 0.5289 - accuracy: 0.7299 - val_loss: 0.5104 - val_accuracy: 0.7405\n",
      "Epoch 22/50\n",
      "375/375 [==============================] - 94s 251ms/step - loss: 0.5267 - accuracy: 0.7328 - val_loss: 0.5010 - val_accuracy: 0.7450\n",
      "Epoch 23/50\n",
      "375/375 [==============================] - 94s 251ms/step - loss: 0.5291 - accuracy: 0.7293 - val_loss: 0.4980 - val_accuracy: 0.7475\n",
      "Epoch 24/50\n",
      "375/375 [==============================] - 94s 251ms/step - loss: 0.5245 - accuracy: 0.7346 - val_loss: 0.4946 - val_accuracy: 0.7533\n",
      "Epoch 25/50\n",
      "375/375 [==============================] - 94s 251ms/step - loss: 0.5189 - accuracy: 0.7382 - val_loss: 0.4854 - val_accuracy: 0.7615\n",
      "Epoch 26/50\n",
      "375/375 [==============================] - 94s 251ms/step - loss: 0.5203 - accuracy: 0.7413 - val_loss: 0.5021 - val_accuracy: 0.7477\n",
      "Epoch 27/50\n",
      "375/375 [==============================] - 94s 251ms/step - loss: 0.5212 - accuracy: 0.7305 - val_loss: 0.4956 - val_accuracy: 0.7548\n",
      "Epoch 28/50\n",
      "375/375 [==============================] - 94s 251ms/step - loss: 0.5156 - accuracy: 0.7395 - val_loss: 0.5009 - val_accuracy: 0.7440\n",
      "Epoch 29/50\n",
      "375/375 [==============================] - 94s 251ms/step - loss: 0.5124 - accuracy: 0.7419 - val_loss: 0.4880 - val_accuracy: 0.7617\n",
      "Epoch 30/50\n",
      "375/375 [==============================] - 94s 251ms/step - loss: 0.5137 - accuracy: 0.7432 - val_loss: 0.4858 - val_accuracy: 0.7635\n",
      "Epoch 31/50\n",
      "375/375 [==============================] - 94s 250ms/step - loss: 0.5078 - accuracy: 0.7477 - val_loss: 0.4855 - val_accuracy: 0.7560\n",
      "Epoch 32/50\n",
      "375/375 [==============================] - 94s 251ms/step - loss: 0.5127 - accuracy: 0.7431 - val_loss: 0.4767 - val_accuracy: 0.7678\n",
      "Epoch 33/50\n",
      "375/375 [==============================] - 94s 250ms/step - loss: 0.5093 - accuracy: 0.7471 - val_loss: 0.4921 - val_accuracy: 0.7505\n",
      "Epoch 34/50\n",
      "375/375 [==============================] - 94s 251ms/step - loss: 0.5061 - accuracy: 0.7513 - val_loss: 0.4758 - val_accuracy: 0.7707\n",
      "Epoch 35/50\n",
      "375/375 [==============================] - 94s 251ms/step - loss: 0.5038 - accuracy: 0.7511 - val_loss: 0.4826 - val_accuracy: 0.7625\n",
      "Epoch 36/50\n",
      "375/375 [==============================] - 94s 251ms/step - loss: 0.5042 - accuracy: 0.7475 - val_loss: 0.4835 - val_accuracy: 0.7682\n",
      "Epoch 37/50\n",
      "375/375 [==============================] - 94s 251ms/step - loss: 0.5077 - accuracy: 0.7475 - val_loss: 0.4826 - val_accuracy: 0.7717\n",
      "Epoch 38/50\n",
      "375/375 [==============================] - 94s 251ms/step - loss: 0.5033 - accuracy: 0.7484 - val_loss: 0.4721 - val_accuracy: 0.7725\n",
      "Epoch 39/50\n",
      "375/375 [==============================] - 94s 251ms/step - loss: 0.4987 - accuracy: 0.7544 - val_loss: 0.4822 - val_accuracy: 0.7653\n",
      "Epoch 40/50\n",
      "375/375 [==============================] - 94s 251ms/step - loss: 0.5032 - accuracy: 0.7492 - val_loss: 0.4782 - val_accuracy: 0.7635\n",
      "Epoch 41/50\n",
      "375/375 [==============================] - 94s 251ms/step - loss: 0.5002 - accuracy: 0.7505 - val_loss: 0.4729 - val_accuracy: 0.7763\n",
      "Epoch 42/50\n",
      "375/375 [==============================] - 94s 251ms/step - loss: 0.5014 - accuracy: 0.7515 - val_loss: 0.4731 - val_accuracy: 0.7678\n",
      "Epoch 43/50\n",
      "375/375 [==============================] - 94s 251ms/step - loss: 0.4974 - accuracy: 0.7548 - val_loss: 0.4706 - val_accuracy: 0.7703\n",
      "Epoch 44/50\n",
      "375/375 [==============================] - 94s 251ms/step - loss: 0.5009 - accuracy: 0.7517 - val_loss: 0.4614 - val_accuracy: 0.7820\n",
      "Epoch 45/50\n",
      "375/375 [==============================] - 94s 250ms/step - loss: 0.4954 - accuracy: 0.7545 - val_loss: 0.4731 - val_accuracy: 0.7768\n",
      "Epoch 46/50\n",
      "375/375 [==============================] - 94s 251ms/step - loss: 0.4960 - accuracy: 0.7596 - val_loss: 0.4725 - val_accuracy: 0.7738\n",
      "Epoch 47/50\n",
      "375/375 [==============================] - 94s 251ms/step - loss: 0.4955 - accuracy: 0.7602 - val_loss: 0.4721 - val_accuracy: 0.7722\n",
      "Epoch 48/50\n",
      "375/375 [==============================] - 94s 251ms/step - loss: 0.4882 - accuracy: 0.7623 - val_loss: 0.4605 - val_accuracy: 0.7788\n",
      "Epoch 49/50\n",
      "375/375 [==============================] - 94s 251ms/step - loss: 0.4925 - accuracy: 0.7544 - val_loss: 0.4626 - val_accuracy: 0.7740\n",
      "Epoch 50/50\n",
      "375/375 [==============================] - 94s 251ms/step - loss: 0.4879 - accuracy: 0.7594 - val_loss: 0.4653 - val_accuracy: 0.7753\n"
     ]
    }
   ],
   "source": [
    "history = model.fit_generator(generator=train_generator,\n",
    "                    steps_per_epoch=int(12000/32),\n",
    "                    epochs=50, validation_data=validation_generator, validation_steps=int(4000/32))"
   ]
  },
  {
   "cell_type": "markdown",
   "metadata": {
    "colab_type": "text",
    "id": "j_NkGx7O3881"
   },
   "source": [
    "Mean Accuracy for training and validation"
   ]
  },
  {
   "cell_type": "code",
   "execution_count": 7,
   "metadata": {},
   "outputs": [
    {
     "name": "stdout",
     "output_type": "stream",
     "text": [
      "Mean accuracy for training: 0.72568\n",
      "Mean accuracy for validation: 0.74411994\n"
     ]
    }
   ],
   "source": [
    "print(\"Mean accuracy for training:\", np.mean(history.history['accuracy']))\n",
    "print(\"Mean accuracy for validation:\", np.mean(history.history['val_accuracy']))"
   ]
  },
  {
   "cell_type": "markdown",
   "metadata": {
    "colab_type": "text",
    "id": "j_NkGx7O3881"
   },
   "source": [
    "Mean Loss for training and validation"
   ]
  },
  {
   "cell_type": "code",
   "execution_count": 8,
   "metadata": {},
   "outputs": [
    {
     "name": "stdout",
     "output_type": "stream",
     "text": [
      "Mean loss for training: 0.5325509813833237\n",
      "Mean loss for validation: 0.5063471019601822\n"
     ]
    }
   ],
   "source": [
    "print(\"Mean loss for training:\", np.mean(history.history['loss']))\n",
    "print(\"Mean loss for validation:\", np.mean(history.history['val_loss']))"
   ]
  },
  {
   "cell_type": "markdown",
   "metadata": {
    "colab_type": "text",
    "id": "j_NkGx7O3881"
   },
   "source": [
    "Loss Graph to Determine there is no Overfitting or Underfitting\n",
    "Source: \n",
    "\n",
    "https://machinelearningmastery.com/learning-curves-for-diagnosing-machine-learning-model-performance/"
   ]
  },
  {
   "cell_type": "code",
   "execution_count": 9,
   "metadata": {
    "colab": {},
    "colab_type": "code",
    "id": "Az9CF4mi3VAk"
   },
   "outputs": [
    {
     "data": {
      "image/png": "[encoded data removed]",
      "text/plain": [
       "<Figure size 432x288 with 1 Axes>"
      ]
     },
     "metadata": {
      "needs_background": "light"
     },
     "output_type": "display_data"
    }
   ],
   "source": [
    "plt.plot(history.history['loss'])\n",
    "plt.plot(history.history['val_loss'])\n",
    "plt.title('Loss Across Epochs')\n",
    "plt.ylabel('Loss')\n",
    "plt.xlabel('Epoch')\n",
    "plt.legend(['train', 'val'], loc='upper left')\n",
    "plt.show()"
   ]
  },
  {
   "cell_type": "markdown",
   "metadata": {
    "colab_type": "text",
    "id": "iTCeARjg3_Ef"
   },
   "source": [
    "Save Weights"
   ]
  },
  {
   "cell_type": "code",
   "execution_count": 10,
   "metadata": {
    "colab": {},
    "colab_type": "code",
    "id": "gW9nRUenraRX"
   },
   "outputs": [],
   "source": [
    "model.save_weights('model1.h5')"
   ]
  },
  {
   "cell_type": "markdown",
   "metadata": {
    "colab_type": "text",
    "id": "iTCeARjg3_Ef"
   },
   "source": [
    "Load Weights"
   ]
  },
  {
   "cell_type": "code",
   "execution_count": 6,
   "metadata": {},
   "outputs": [],
   "source": [
    "model.load_weights('model1.h5')"
   ]
  },
  {
   "cell_type": "markdown",
   "metadata": {
    "colab_type": "text",
    "id": "ZgqFxrNE49eL"
   },
   "source": [
    "## Evaluate testing"
   ]
  },
  {
   "cell_type": "code",
   "execution_count": 7,
   "metadata": {
    "colab": {},
    "colab_type": "code",
    "id": "-S8pGfNR5Bzx"
   },
   "outputs": [
    {
     "name": "stdout",
     "output_type": "stream",
     "text": [
      "WARNING:tensorflow:From <ipython-input-7-2d0f8776d7fc>:1: Model.evaluate_generator (from tensorflow.python.keras.engine.training) is deprecated and will be removed in a future version.\n",
      "Instructions for updating:\n",
      "Please use Model.evaluate, which supports generators.\n",
      "WARNING:tensorflow:sample_weight modes were coerced from\n",
      "  ...\n",
      "    to  \n",
      "  ['...']\n"
     ]
    }
   ],
   "source": [
    "score = model.evaluate_generator(test_generator, steps=int(4000))"
   ]
  },
  {
   "cell_type": "code",
   "execution_count": 8,
   "metadata": {
    "colab": {},
    "colab_type": "code",
    "id": "4Jvw-gmc5WZM"
   },
   "outputs": [
    {
     "name": "stdout",
     "output_type": "stream",
     "text": [
      "Testing loss: 0.45640681637947544\n",
      "Testing accuracy: 0.786\n"
     ]
    }
   ],
   "source": [
    "print('Testing loss:', score[0])\n",
    "print('Testing accuracy:', score[1])"
   ]
  },
  {
   "cell_type": "markdown",
   "metadata": {
    "colab_type": "text",
    "id": "iTCeARjg3_Ef"
   },
   "source": [
    "Confusion Matrix"
   ]
  },
  {
   "cell_type": "code",
   "execution_count": 9,
   "metadata": {},
   "outputs": [
    {
     "name": "stdout",
     "output_type": "stream",
     "text": [
      "WARNING:tensorflow:From <ipython-input-9-12fb939b7cb3>:1: Model.predict_generator (from tensorflow.python.keras.engine.training) is deprecated and will be removed in a future version.\n",
      "Instructions for updating:\n",
      "Please use Model.predict, which supports generators.\n"
     ]
    },
    {
     "data": {
      "text/plain": [
       "array([[1044,  956],\n",
       "       [1086,  914]])"
      ]
     },
     "execution_count": 9,
     "metadata": {},
     "output_type": "execute_result"
    }
   ],
   "source": [
    "probabilities = model.predict_generator(test_generator, 4000)\n",
    "\n",
    "y_true = test_generator.classes\n",
    "y_pred = probabilities > 0.5\n",
    "\n",
    "confusion_matrix(y_true, y_pred)"
   ]
  },
  {
   "cell_type": "markdown",
   "metadata": {
    "colab_type": "text",
    "id": "4C8E1ayC8JlF"
   },
   "source": [
    "## Predict My Two Cats Kimba & Meow and Dog Celebrity Topi"
   ]
  },
  {
   "cell_type": "code",
   "execution_count": 12,
   "metadata": {
    "colab": {},
    "colab_type": "code",
    "id": "8eDyhv3I8Mka"
   },
   "outputs": [
    {
     "name": "stdout",
     "output_type": "stream",
     "text": [
      "I am a dog.\n"
     ]
    }
   ],
   "source": [
    "img = image.load_img('/floyd/home/topi.jpg', target_size=(150,150))\n",
    "x = image.img_to_array(img)\n",
    "x = np.expand_dims(x, axis=0)\n",
    "x /= 255\n",
    "\n",
    "prediction = model.predict(x)[0]\n",
    "\n",
    "if(prediction < 0.5):\n",
    "    print(\"I am a cat.\")\n",
    "else:\n",
    "    print(\"I am a dog.\")"
   ]
  },
  {
   "cell_type": "code",
   "execution_count": null,
   "metadata": {},
   "outputs": [],
   "source": []
  }
 ],
 "metadata": {
  "colab": {
   "collapsed_sections": [],
   "name": "Assignment_Programming_(3)_Sepehr_Goshayeshi.ipynb",
   "provenance": []
  },
  "kernelspec": {
   "display_name": "Python 3",
   "language": "python",
   "name": "python3"
  },
  "language_info": {
   "codemirror_mode": {
    "name": "ipython",
    "version": 3
   },
   "file_extension": ".py",
   "mimetype": "text/x-python",
   "name": "python",
   "nbconvert_exporter": "python",
   "pygments_lexer": "ipython3",
   "version": "3.6.9"
  }
 },
 "nbformat": 4,
 "nbformat_minor": 4
}
