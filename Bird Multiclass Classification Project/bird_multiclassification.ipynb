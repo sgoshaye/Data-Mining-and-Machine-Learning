{
 "cells": [
  {
   "cell_type": "markdown",
   "metadata": {
    "colab_type": "text",
    "id": "fAJngd81bCUz"
   },
   "source": [
    "# Load all Libraries"
   ]
  },
  {
   "cell_type": "code",
   "execution_count": 1,
   "metadata": {
    "colab": {},
    "colab_type": "code",
    "id": "BBRaaPllbCU0"
   },
   "outputs": [
    {
     "name": "stderr",
     "output_type": "stream",
     "text": [
      "Using TensorFlow backend.\n"
     ]
    }
   ],
   "source": [
    "import numpy as np\n",
    "import pandas as pd\n",
    "import matplotlib.pyplot as plt\n",
    "from sklearn.metrics import confusion_matrix, classification_report\n",
    "from keras.preprocessing.image import ImageDataGenerator\n",
    "from keras.layers import Dense, GlobalAveragePooling2D, Flatten, Conv2D, MaxPooling2D\n",
    "from keras.callbacks import ModelCheckpoint\n",
    "from keras.models import Model, load_model, Sequential\n",
    "from keras.applications.resnet50 import ResNet50\n",
    "from keras.regularizers import l2"
   ]
  },
  {
   "cell_type": "markdown",
   "metadata": {
    "colab_type": "text",
    "id": "FFkRiXARbCVP"
   },
   "source": [
    "## Paths and Image Generators"
   ]
  },
  {
   "cell_type": "code",
   "execution_count": 2,
   "metadata": {
    "colab": {},
    "colab_type": "code",
    "id": "XfYdNNT6iPPv"
   },
   "outputs": [],
   "source": [
    "train_datagen = ImageDataGenerator(\n",
    "        rescale=1./255,\n",
    "        shear_range=0.2,\n",
    "        zoom_range=0.2,\n",
    "        horizontal_flip=True)"
   ]
  },
  {
   "cell_type": "code",
   "execution_count": 3,
   "metadata": {
    "colab": {},
    "colab_type": "code",
    "id": "nOfwoGNMbCVS"
   },
   "outputs": [],
   "source": [
    "test_datagen = ImageDataGenerator(rescale=1./255)\n",
    "\n",
    "validation_datagen = ImageDataGenerator(rescale=1./255)"
   ]
  },
  {
   "cell_type": "code",
   "execution_count": 4,
   "metadata": {
    "colab": {},
    "colab_type": "code",
    "id": "nY0TE-SsbCVV"
   },
   "outputs": [
    {
     "name": "stdout",
     "output_type": "stream",
     "text": [
      "Found 24497 images belonging to 180 classes.\n"
     ]
    }
   ],
   "source": [
    "train_generator = train_datagen.flow_from_directory(\n",
    "        directory=\"/floyd/input/birds/train\",\n",
    "        target_size=(224, 224),\n",
    "        color_mode=\"rgb\",\n",
    "        batch_size=32,\n",
    "        class_mode=\"categorical\",\n",
    "        shuffle=True,\n",
    "        seed=42)"
   ]
  },
  {
   "cell_type": "code",
   "execution_count": 5,
   "metadata": {
    "colab": {},
    "colab_type": "code",
    "id": "niEyeYhSbCVb"
   },
   "outputs": [
    {
     "name": "stdout",
     "output_type": "stream",
     "text": [
      "Found 900 images belonging to 180 classes.\n"
     ]
    }
   ],
   "source": [
    "valid_generator = validation_datagen.flow_from_directory(\n",
    "        directory=\"/floyd/input/birds/valid\",\n",
    "        target_size=(224, 224),\n",
    "        color_mode=\"rgb\",\n",
    "        batch_size=32,\n",
    "        class_mode=\"categorical\",\n",
    "        shuffle=True,\n",
    "        seed=42)"
   ]
  },
  {
   "cell_type": "code",
   "execution_count": 6,
   "metadata": {
    "colab": {},
    "colab_type": "code",
    "id": "3o3EsAd-bCVY"
   },
   "outputs": [
    {
     "name": "stdout",
     "output_type": "stream",
     "text": [
      "Found 900 images belonging to 180 classes.\n"
     ]
    }
   ],
   "source": [
    "test_generator = test_datagen.flow_from_directory(\n",
    "        directory=\"/floyd/input/birds/test\",\n",
    "        target_size=(224, 224),\n",
    "        color_mode=\"rgb\",\n",
    "        batch_size=1,\n",
    "        class_mode=\"categorical\",\n",
    "        shuffle=False)"
   ]
  },
  {
   "cell_type": "markdown",
   "metadata": {
    "colab_type": "text",
    "id": "UHcwhxmDbCVe"
   },
   "source": [
    "# Model Definition"
   ]
  },
  {
   "cell_type": "code",
   "execution_count": 7,
   "metadata": {
    "colab": {},
    "colab_type": "code",
    "id": "kwSF6mrtbCVe"
   },
   "outputs": [
    {
     "name": "stderr",
     "output_type": "stream",
     "text": [
      "/usr/local/lib/python3.6/site-packages/keras_applications/resnet50.py:265: UserWarning: The output shape of `ResNet50(include_top=False)` has been changed since Keras 2.2.0.\n",
      "  warnings.warn('The output shape of `ResNet50(include_top=False)` '\n"
     ]
    }
   ],
   "source": [
    "base_model = ResNet50(weights='imagenet', include_top=False)\n",
    "\n",
    "# add a global spatial average pooling layer\n",
    "x = base_model.output\n",
    "x = GlobalAveragePooling2D()(x)\n",
    "# let's add a fully-connected layer\n",
    "x = Dense(512, activation='relu')(x)\n",
    "# and a logistic layer --  we have 180 classes\n",
    "predictions = Dense(180,kernel_regularizer=l2(0.01), activation='softmax')(x)\n",
    "\n",
    "# this is the model we will train\n",
    "model = Model(inputs=base_model.input, outputs=predictions)\n",
    "\n",
    "model.compile(\n",
    "    loss='categorical_crossentropy',\n",
    "    optimizer='adam',\n",
    "    metrics=['accuracy']\n",
    ")"
   ]
  },
  {
   "cell_type": "code",
   "execution_count": 8,
   "metadata": {
    "colab": {},
    "colab_type": "code",
    "id": "pPnYeQ12ucMf"
   },
   "outputs": [
    {
     "name": "stdout",
     "output_type": "stream",
     "text": [
      "Model: \"model_1\"\n",
      "__________________________________________________________________________________________________\n",
      "Layer (type)                    Output Shape         Param #     Connected to                     \n",
      "==================================================================================================\n",
      "input_1 (InputLayer)            (None, None, None, 3 0                                            \n",
      "__________________________________________________________________________________________________\n",
      "conv1_pad (ZeroPadding2D)       (None, None, None, 3 0           input_1[0][0]                    \n",
      "__________________________________________________________________________________________________\n",
      "conv1 (Conv2D)                  (None, None, None, 6 9472        conv1_pad[0][0]                  \n",
      "__________________________________________________________________________________________________\n",
      "bn_conv1 (BatchNormalization)   (None, None, None, 6 256         conv1[0][0]                      \n",
      "__________________________________________________________________________________________________\n",
      "activation_1 (Activation)       (None, None, None, 6 0           bn_conv1[0][0]                   \n",
      "__________________________________________________________________________________________________\n",
      "pool1_pad (ZeroPadding2D)       (None, None, None, 6 0           activation_1[0][0]               \n",
      "__________________________________________________________________________________________________\n",
      "max_pooling2d_1 (MaxPooling2D)  (None, None, None, 6 0           pool1_pad[0][0]                  \n",
      "__________________________________________________________________________________________________\n",
      "res2a_branch2a (Conv2D)         (None, None, None, 6 4160        max_pooling2d_1[0][0]            \n",
      "__________________________________________________________________________________________________\n",
      "bn2a_branch2a (BatchNormalizati (None, None, None, 6 256         res2a_branch2a[0][0]             \n",
      "__________________________________________________________________________________________________\n",
      "activation_2 (Activation)       (None, None, None, 6 0           bn2a_branch2a[0][0]              \n",
      "__________________________________________________________________________________________________\n",
      "res2a_branch2b (Conv2D)         (None, None, None, 6 36928       activation_2[0][0]               \n",
      "__________________________________________________________________________________________________\n",
      "bn2a_branch2b (BatchNormalizati (None, None, None, 6 256         res2a_branch2b[0][0]             \n",
      "__________________________________________________________________________________________________\n",
      "activation_3 (Activation)       (None, None, None, 6 0           bn2a_branch2b[0][0]              \n",
      "__________________________________________________________________________________________________\n",
      "res2a_branch2c (Conv2D)         (None, None, None, 2 16640       activation_3[0][0]               \n",
      "__________________________________________________________________________________________________\n",
      "res2a_branch1 (Conv2D)          (None, None, None, 2 16640       max_pooling2d_1[0][0]            \n",
      "__________________________________________________________________________________________________\n",
      "bn2a_branch2c (BatchNormalizati (None, None, None, 2 1024        res2a_branch2c[0][0]             \n",
      "__________________________________________________________________________________________________\n",
      "bn2a_branch1 (BatchNormalizatio (None, None, None, 2 1024        res2a_branch1[0][0]              \n",
      "__________________________________________________________________________________________________\n",
      "add_1 (Add)                     (None, None, None, 2 0           bn2a_branch2c[0][0]              \n",
      "                                                                 bn2a_branch1[0][0]               \n",
      "__________________________________________________________________________________________________\n",
      "activation_4 (Activation)       (None, None, None, 2 0           add_1[0][0]                      \n",
      "__________________________________________________________________________________________________\n",
      "res2b_branch2a (Conv2D)         (None, None, None, 6 16448       activation_4[0][0]               \n",
      "__________________________________________________________________________________________________\n",
      "bn2b_branch2a (BatchNormalizati (None, None, None, 6 256         res2b_branch2a[0][0]             \n",
      "__________________________________________________________________________________________________\n",
      "activation_5 (Activation)       (None, None, None, 6 0           bn2b_branch2a[0][0]              \n",
      "__________________________________________________________________________________________________\n",
      "res2b_branch2b (Conv2D)         (None, None, None, 6 36928       activation_5[0][0]               \n",
      "__________________________________________________________________________________________________\n",
      "bn2b_branch2b (BatchNormalizati (None, None, None, 6 256         res2b_branch2b[0][0]             \n",
      "__________________________________________________________________________________________________\n",
      "activation_6 (Activation)       (None, None, None, 6 0           bn2b_branch2b[0][0]              \n",
      "__________________________________________________________________________________________________\n",
      "res2b_branch2c (Conv2D)         (None, None, None, 2 16640       activation_6[0][0]               \n",
      "__________________________________________________________________________________________________\n",
      "bn2b_branch2c (BatchNormalizati (None, None, None, 2 1024        res2b_branch2c[0][0]             \n",
      "__________________________________________________________________________________________________\n",
      "add_2 (Add)                     (None, None, None, 2 0           bn2b_branch2c[0][0]              \n",
      "                                                                 activation_4[0][0]               \n",
      "__________________________________________________________________________________________________\n",
      "activation_7 (Activation)       (None, None, None, 2 0           add_2[0][0]                      \n",
      "__________________________________________________________________________________________________\n",
      "res2c_branch2a (Conv2D)         (None, None, None, 6 16448       activation_7[0][0]               \n",
      "__________________________________________________________________________________________________\n",
      "bn2c_branch2a (BatchNormalizati (None, None, None, 6 256         res2c_branch2a[0][0]             \n",
      "__________________________________________________________________________________________________\n",
      "activation_8 (Activation)       (None, None, None, 6 0           bn2c_branch2a[0][0]              \n",
      "__________________________________________________________________________________________________\n",
      "res2c_branch2b (Conv2D)         (None, None, None, 6 36928       activation_8[0][0]               \n",
      "__________________________________________________________________________________________________\n",
      "bn2c_branch2b (BatchNormalizati (None, None, None, 6 256         res2c_branch2b[0][0]             \n",
      "__________________________________________________________________________________________________\n",
      "activation_9 (Activation)       (None, None, None, 6 0           bn2c_branch2b[0][0]              \n",
      "__________________________________________________________________________________________________\n",
      "res2c_branch2c (Conv2D)         (None, None, None, 2 16640       activation_9[0][0]               \n",
      "__________________________________________________________________________________________________\n",
      "bn2c_branch2c (BatchNormalizati (None, None, None, 2 1024        res2c_branch2c[0][0]             \n",
      "__________________________________________________________________________________________________\n",
      "add_3 (Add)                     (None, None, None, 2 0           bn2c_branch2c[0][0]              \n",
      "                                                                 activation_7[0][0]               \n",
      "__________________________________________________________________________________________________\n",
      "activation_10 (Activation)      (None, None, None, 2 0           add_3[0][0]                      \n",
      "__________________________________________________________________________________________________\n",
      "res3a_branch2a (Conv2D)         (None, None, None, 1 32896       activation_10[0][0]              \n",
      "__________________________________________________________________________________________________\n",
      "bn3a_branch2a (BatchNormalizati (None, None, None, 1 512         res3a_branch2a[0][0]             \n",
      "__________________________________________________________________________________________________\n",
      "activation_11 (Activation)      (None, None, None, 1 0           bn3a_branch2a[0][0]              \n",
      "__________________________________________________________________________________________________\n",
      "res3a_branch2b (Conv2D)         (None, None, None, 1 147584      activation_11[0][0]              \n",
      "__________________________________________________________________________________________________\n",
      "bn3a_branch2b (BatchNormalizati (None, None, None, 1 512         res3a_branch2b[0][0]             \n",
      "__________________________________________________________________________________________________\n",
      "activation_12 (Activation)      (None, None, None, 1 0           bn3a_branch2b[0][0]              \n",
      "__________________________________________________________________________________________________\n",
      "res3a_branch2c (Conv2D)         (None, None, None, 5 66048       activation_12[0][0]              \n",
      "__________________________________________________________________________________________________\n",
      "res3a_branch1 (Conv2D)          (None, None, None, 5 131584      activation_10[0][0]              \n",
      "__________________________________________________________________________________________________\n",
      "bn3a_branch2c (BatchNormalizati (None, None, None, 5 2048        res3a_branch2c[0][0]             \n",
      "__________________________________________________________________________________________________\n",
      "bn3a_branch1 (BatchNormalizatio (None, None, None, 5 2048        res3a_branch1[0][0]              \n",
      "__________________________________________________________________________________________________\n",
      "add_4 (Add)                     (None, None, None, 5 0           bn3a_branch2c[0][0]              \n",
      "                                                                 bn3a_branch1[0][0]               \n",
      "__________________________________________________________________________________________________\n",
      "activation_13 (Activation)      (None, None, None, 5 0           add_4[0][0]                      \n",
      "__________________________________________________________________________________________________\n",
      "res3b_branch2a (Conv2D)         (None, None, None, 1 65664       activation_13[0][0]              \n",
      "__________________________________________________________________________________________________\n",
      "bn3b_branch2a (BatchNormalizati (None, None, None, 1 512         res3b_branch2a[0][0]             \n",
      "__________________________________________________________________________________________________\n",
      "activation_14 (Activation)      (None, None, None, 1 0           bn3b_branch2a[0][0]              \n",
      "__________________________________________________________________________________________________\n",
      "res3b_branch2b (Conv2D)         (None, None, None, 1 147584      activation_14[0][0]              \n",
      "__________________________________________________________________________________________________\n",
      "bn3b_branch2b (BatchNormalizati (None, None, None, 1 512         res3b_branch2b[0][0]             \n",
      "__________________________________________________________________________________________________\n",
      "activation_15 (Activation)      (None, None, None, 1 0           bn3b_branch2b[0][0]              \n",
      "__________________________________________________________________________________________________\n",
      "res3b_branch2c (Conv2D)         (None, None, None, 5 66048       activation_15[0][0]              \n",
      "__________________________________________________________________________________________________\n",
      "bn3b_branch2c (BatchNormalizati (None, None, None, 5 2048        res3b_branch2c[0][0]             \n",
      "__________________________________________________________________________________________________\n",
      "add_5 (Add)                     (None, None, None, 5 0           bn3b_branch2c[0][0]              \n",
      "                                                                 activation_13[0][0]              \n",
      "__________________________________________________________________________________________________\n",
      "activation_16 (Activation)      (None, None, None, 5 0           add_5[0][0]                      \n",
      "__________________________________________________________________________________________________\n",
      "res3c_branch2a (Conv2D)         (None, None, None, 1 65664       activation_16[0][0]              \n",
      "__________________________________________________________________________________________________\n",
      "bn3c_branch2a (BatchNormalizati (None, None, None, 1 512         res3c_branch2a[0][0]             \n",
      "__________________________________________________________________________________________________\n",
      "activation_17 (Activation)      (None, None, None, 1 0           bn3c_branch2a[0][0]              \n",
      "__________________________________________________________________________________________________\n",
      "res3c_branch2b (Conv2D)         (None, None, None, 1 147584      activation_17[0][0]              \n",
      "__________________________________________________________________________________________________\n",
      "bn3c_branch2b (BatchNormalizati (None, None, None, 1 512         res3c_branch2b[0][0]             \n",
      "__________________________________________________________________________________________________\n",
      "activation_18 (Activation)      (None, None, None, 1 0           bn3c_branch2b[0][0]              \n",
      "__________________________________________________________________________________________________\n",
      "res3c_branch2c (Conv2D)         (None, None, None, 5 66048       activation_18[0][0]              \n",
      "__________________________________________________________________________________________________\n",
      "bn3c_branch2c (BatchNormalizati (None, None, None, 5 2048        res3c_branch2c[0][0]             \n",
      "__________________________________________________________________________________________________\n",
      "add_6 (Add)                     (None, None, None, 5 0           bn3c_branch2c[0][0]              \n",
      "                                                                 activation_16[0][0]              \n",
      "__________________________________________________________________________________________________\n",
      "activation_19 (Activation)      (None, None, None, 5 0           add_6[0][0]                      \n",
      "__________________________________________________________________________________________________\n",
      "res3d_branch2a (Conv2D)         (None, None, None, 1 65664       activation_19[0][0]              \n",
      "__________________________________________________________________________________________________\n",
      "bn3d_branch2a (BatchNormalizati (None, None, None, 1 512         res3d_branch2a[0][0]             \n",
      "__________________________________________________________________________________________________\n",
      "activation_20 (Activation)      (None, None, None, 1 0           bn3d_branch2a[0][0]              \n",
      "__________________________________________________________________________________________________\n",
      "res3d_branch2b (Conv2D)         (None, None, None, 1 147584      activation_20[0][0]              \n",
      "__________________________________________________________________________________________________\n",
      "bn3d_branch2b (BatchNormalizati (None, None, None, 1 512         res3d_branch2b[0][0]             \n",
      "__________________________________________________________________________________________________\n",
      "activation_21 (Activation)      (None, None, None, 1 0           bn3d_branch2b[0][0]              \n",
      "__________________________________________________________________________________________________\n",
      "res3d_branch2c (Conv2D)         (None, None, None, 5 66048       activation_21[0][0]              \n",
      "__________________________________________________________________________________________________\n",
      "bn3d_branch2c (BatchNormalizati (None, None, None, 5 2048        res3d_branch2c[0][0]             \n",
      "__________________________________________________________________________________________________\n",
      "add_7 (Add)                     (None, None, None, 5 0           bn3d_branch2c[0][0]              \n",
      "                                                                 activation_19[0][0]              \n",
      "__________________________________________________________________________________________________\n",
      "activation_22 (Activation)      (None, None, None, 5 0           add_7[0][0]                      \n",
      "__________________________________________________________________________________________________\n",
      "res4a_branch2a (Conv2D)         (None, None, None, 2 131328      activation_22[0][0]              \n",
      "__________________________________________________________________________________________________\n",
      "bn4a_branch2a (BatchNormalizati (None, None, None, 2 1024        res4a_branch2a[0][0]             \n",
      "__________________________________________________________________________________________________\n",
      "activation_23 (Activation)      (None, None, None, 2 0           bn4a_branch2a[0][0]              \n",
      "__________________________________________________________________________________________________\n",
      "res4a_branch2b (Conv2D)         (None, None, None, 2 590080      activation_23[0][0]              \n",
      "__________________________________________________________________________________________________\n",
      "bn4a_branch2b (BatchNormalizati (None, None, None, 2 1024        res4a_branch2b[0][0]             \n",
      "__________________________________________________________________________________________________\n",
      "activation_24 (Activation)      (None, None, None, 2 0           bn4a_branch2b[0][0]              \n",
      "__________________________________________________________________________________________________\n",
      "res4a_branch2c (Conv2D)         (None, None, None, 1 263168      activation_24[0][0]              \n",
      "__________________________________________________________________________________________________\n",
      "res4a_branch1 (Conv2D)          (None, None, None, 1 525312      activation_22[0][0]              \n",
      "__________________________________________________________________________________________________\n",
      "bn4a_branch2c (BatchNormalizati (None, None, None, 1 4096        res4a_branch2c[0][0]             \n",
      "__________________________________________________________________________________________________\n",
      "bn4a_branch1 (BatchNormalizatio (None, None, None, 1 4096        res4a_branch1[0][0]              \n",
      "__________________________________________________________________________________________________\n",
      "add_8 (Add)                     (None, None, None, 1 0           bn4a_branch2c[0][0]              \n",
      "                                                                 bn4a_branch1[0][0]               \n",
      "__________________________________________________________________________________________________\n",
      "activation_25 (Activation)      (None, None, None, 1 0           add_8[0][0]                      \n",
      "__________________________________________________________________________________________________\n",
      "res4b_branch2a (Conv2D)         (None, None, None, 2 262400      activation_25[0][0]              \n",
      "__________________________________________________________________________________________________\n",
      "bn4b_branch2a (BatchNormalizati (None, None, None, 2 1024        res4b_branch2a[0][0]             \n",
      "__________________________________________________________________________________________________\n",
      "activation_26 (Activation)      (None, None, None, 2 0           bn4b_branch2a[0][0]              \n",
      "__________________________________________________________________________________________________\n",
      "res4b_branch2b (Conv2D)         (None, None, None, 2 590080      activation_26[0][0]              \n",
      "__________________________________________________________________________________________________\n",
      "bn4b_branch2b (BatchNormalizati (None, None, None, 2 1024        res4b_branch2b[0][0]             \n",
      "__________________________________________________________________________________________________\n",
      "activation_27 (Activation)      (None, None, None, 2 0           bn4b_branch2b[0][0]              \n",
      "__________________________________________________________________________________________________\n",
      "res4b_branch2c (Conv2D)         (None, None, None, 1 263168      activation_27[0][0]              \n",
      "__________________________________________________________________________________________________\n",
      "bn4b_branch2c (BatchNormalizati (None, None, None, 1 4096        res4b_branch2c[0][0]             \n",
      "__________________________________________________________________________________________________\n",
      "add_9 (Add)                     (None, None, None, 1 0           bn4b_branch2c[0][0]              \n",
      "                                                                 activation_25[0][0]              \n",
      "__________________________________________________________________________________________________\n",
      "activation_28 (Activation)      (None, None, None, 1 0           add_9[0][0]                      \n",
      "__________________________________________________________________________________________________\n",
      "res4c_branch2a (Conv2D)         (None, None, None, 2 262400      activation_28[0][0]              \n",
      "__________________________________________________________________________________________________\n",
      "bn4c_branch2a (BatchNormalizati (None, None, None, 2 1024        res4c_branch2a[0][0]             \n",
      "__________________________________________________________________________________________________\n",
      "activation_29 (Activation)      (None, None, None, 2 0           bn4c_branch2a[0][0]              \n",
      "__________________________________________________________________________________________________\n",
      "res4c_branch2b (Conv2D)         (None, None, None, 2 590080      activation_29[0][0]              \n",
      "__________________________________________________________________________________________________\n",
      "bn4c_branch2b (BatchNormalizati (None, None, None, 2 1024        res4c_branch2b[0][0]             \n",
      "__________________________________________________________________________________________________\n",
      "activation_30 (Activation)      (None, None, None, 2 0           bn4c_branch2b[0][0]              \n",
      "__________________________________________________________________________________________________\n",
      "res4c_branch2c (Conv2D)         (None, None, None, 1 263168      activation_30[0][0]              \n",
      "__________________________________________________________________________________________________\n",
      "bn4c_branch2c (BatchNormalizati (None, None, None, 1 4096        res4c_branch2c[0][0]             \n",
      "__________________________________________________________________________________________________\n",
      "add_10 (Add)                    (None, None, None, 1 0           bn4c_branch2c[0][0]              \n",
      "                                                                 activation_28[0][0]              \n",
      "__________________________________________________________________________________________________\n",
      "activation_31 (Activation)      (None, None, None, 1 0           add_10[0][0]                     \n",
      "__________________________________________________________________________________________________\n",
      "res4d_branch2a (Conv2D)         (None, None, None, 2 262400      activation_31[0][0]              \n",
      "__________________________________________________________________________________________________\n",
      "bn4d_branch2a (BatchNormalizati (None, None, None, 2 1024        res4d_branch2a[0][0]             \n",
      "__________________________________________________________________________________________________\n",
      "activation_32 (Activation)      (None, None, None, 2 0           bn4d_branch2a[0][0]              \n",
      "__________________________________________________________________________________________________\n",
      "res4d_branch2b (Conv2D)         (None, None, None, 2 590080      activation_32[0][0]              \n",
      "__________________________________________________________________________________________________\n",
      "bn4d_branch2b (BatchNormalizati (None, None, None, 2 1024        res4d_branch2b[0][0]             \n",
      "__________________________________________________________________________________________________\n",
      "activation_33 (Activation)      (None, None, None, 2 0           bn4d_branch2b[0][0]              \n",
      "__________________________________________________________________________________________________\n",
      "res4d_branch2c (Conv2D)         (None, None, None, 1 263168      activation_33[0][0]              \n",
      "__________________________________________________________________________________________________\n",
      "bn4d_branch2c (BatchNormalizati (None, None, None, 1 4096        res4d_branch2c[0][0]             \n",
      "__________________________________________________________________________________________________\n",
      "add_11 (Add)                    (None, None, None, 1 0           bn4d_branch2c[0][0]              \n",
      "                                                                 activation_31[0][0]              \n",
      "__________________________________________________________________________________________________\n",
      "activation_34 (Activation)      (None, None, None, 1 0           add_11[0][0]                     \n",
      "__________________________________________________________________________________________________\n",
      "res4e_branch2a (Conv2D)         (None, None, None, 2 262400      activation_34[0][0]              \n",
      "__________________________________________________________________________________________________\n",
      "bn4e_branch2a (BatchNormalizati (None, None, None, 2 1024        res4e_branch2a[0][0]             \n",
      "__________________________________________________________________________________________________\n",
      "activation_35 (Activation)      (None, None, None, 2 0           bn4e_branch2a[0][0]              \n",
      "__________________________________________________________________________________________________\n",
      "res4e_branch2b (Conv2D)         (None, None, None, 2 590080      activation_35[0][0]              \n",
      "__________________________________________________________________________________________________\n",
      "bn4e_branch2b (BatchNormalizati (None, None, None, 2 1024        res4e_branch2b[0][0]             \n",
      "__________________________________________________________________________________________________\n",
      "activation_36 (Activation)      (None, None, None, 2 0           bn4e_branch2b[0][0]              \n",
      "__________________________________________________________________________________________________\n",
      "res4e_branch2c (Conv2D)         (None, None, None, 1 263168      activation_36[0][0]              \n",
      "__________________________________________________________________________________________________\n",
      "bn4e_branch2c (BatchNormalizati (None, None, None, 1 4096        res4e_branch2c[0][0]             \n",
      "__________________________________________________________________________________________________\n",
      "add_12 (Add)                    (None, None, None, 1 0           bn4e_branch2c[0][0]              \n",
      "                                                                 activation_34[0][0]              \n",
      "__________________________________________________________________________________________________\n",
      "activation_37 (Activation)      (None, None, None, 1 0           add_12[0][0]                     \n",
      "__________________________________________________________________________________________________\n",
      "res4f_branch2a (Conv2D)         (None, None, None, 2 262400      activation_37[0][0]              \n",
      "__________________________________________________________________________________________________\n",
      "bn4f_branch2a (BatchNormalizati (None, None, None, 2 1024        res4f_branch2a[0][0]             \n",
      "__________________________________________________________________________________________________\n",
      "activation_38 (Activation)      (None, None, None, 2 0           bn4f_branch2a[0][0]              \n",
      "__________________________________________________________________________________________________\n",
      "res4f_branch2b (Conv2D)         (None, None, None, 2 590080      activation_38[0][0]              \n",
      "__________________________________________________________________________________________________\n",
      "bn4f_branch2b (BatchNormalizati (None, None, None, 2 1024        res4f_branch2b[0][0]             \n",
      "__________________________________________________________________________________________________\n",
      "activation_39 (Activation)      (None, None, None, 2 0           bn4f_branch2b[0][0]              \n",
      "__________________________________________________________________________________________________\n",
      "res4f_branch2c (Conv2D)         (None, None, None, 1 263168      activation_39[0][0]              \n",
      "__________________________________________________________________________________________________\n",
      "bn4f_branch2c (BatchNormalizati (None, None, None, 1 4096        res4f_branch2c[0][0]             \n",
      "__________________________________________________________________________________________________\n",
      "add_13 (Add)                    (None, None, None, 1 0           bn4f_branch2c[0][0]              \n",
      "                                                                 activation_37[0][0]              \n",
      "__________________________________________________________________________________________________\n",
      "activation_40 (Activation)      (None, None, None, 1 0           add_13[0][0]                     \n",
      "__________________________________________________________________________________________________\n",
      "res5a_branch2a (Conv2D)         (None, None, None, 5 524800      activation_40[0][0]              \n",
      "__________________________________________________________________________________________________\n",
      "bn5a_branch2a (BatchNormalizati (None, None, None, 5 2048        res5a_branch2a[0][0]             \n",
      "__________________________________________________________________________________________________\n",
      "activation_41 (Activation)      (None, None, None, 5 0           bn5a_branch2a[0][0]              \n",
      "__________________________________________________________________________________________________\n",
      "res5a_branch2b (Conv2D)         (None, None, None, 5 2359808     activation_41[0][0]              \n",
      "__________________________________________________________________________________________________\n",
      "bn5a_branch2b (BatchNormalizati (None, None, None, 5 2048        res5a_branch2b[0][0]             \n",
      "__________________________________________________________________________________________________\n",
      "activation_42 (Activation)      (None, None, None, 5 0           bn5a_branch2b[0][0]              \n",
      "__________________________________________________________________________________________________\n",
      "res5a_branch2c (Conv2D)         (None, None, None, 2 1050624     activation_42[0][0]              \n",
      "__________________________________________________________________________________________________\n",
      "res5a_branch1 (Conv2D)          (None, None, None, 2 2099200     activation_40[0][0]              \n",
      "__________________________________________________________________________________________________\n",
      "bn5a_branch2c (BatchNormalizati (None, None, None, 2 8192        res5a_branch2c[0][0]             \n",
      "__________________________________________________________________________________________________\n",
      "bn5a_branch1 (BatchNormalizatio (None, None, None, 2 8192        res5a_branch1[0][0]              \n",
      "__________________________________________________________________________________________________\n",
      "add_14 (Add)                    (None, None, None, 2 0           bn5a_branch2c[0][0]              \n",
      "                                                                 bn5a_branch1[0][0]               \n",
      "__________________________________________________________________________________________________\n",
      "activation_43 (Activation)      (None, None, None, 2 0           add_14[0][0]                     \n",
      "__________________________________________________________________________________________________\n",
      "res5b_branch2a (Conv2D)         (None, None, None, 5 1049088     activation_43[0][0]              \n",
      "__________________________________________________________________________________________________\n",
      "bn5b_branch2a (BatchNormalizati (None, None, None, 5 2048        res5b_branch2a[0][0]             \n",
      "__________________________________________________________________________________________________\n",
      "activation_44 (Activation)      (None, None, None, 5 0           bn5b_branch2a[0][0]              \n",
      "__________________________________________________________________________________________________\n",
      "res5b_branch2b (Conv2D)         (None, None, None, 5 2359808     activation_44[0][0]              \n",
      "__________________________________________________________________________________________________\n",
      "bn5b_branch2b (BatchNormalizati (None, None, None, 5 2048        res5b_branch2b[0][0]             \n",
      "__________________________________________________________________________________________________\n",
      "activation_45 (Activation)      (None, None, None, 5 0           bn5b_branch2b[0][0]              \n",
      "__________________________________________________________________________________________________\n",
      "res5b_branch2c (Conv2D)         (None, None, None, 2 1050624     activation_45[0][0]              \n",
      "__________________________________________________________________________________________________\n",
      "bn5b_branch2c (BatchNormalizati (None, None, None, 2 8192        res5b_branch2c[0][0]             \n",
      "__________________________________________________________________________________________________\n",
      "add_15 (Add)                    (None, None, None, 2 0           bn5b_branch2c[0][0]              \n",
      "                                                                 activation_43[0][0]              \n",
      "__________________________________________________________________________________________________\n",
      "activation_46 (Activation)      (None, None, None, 2 0           add_15[0][0]                     \n",
      "__________________________________________________________________________________________________\n",
      "res5c_branch2a (Conv2D)         (None, None, None, 5 1049088     activation_46[0][0]              \n",
      "__________________________________________________________________________________________________\n",
      "bn5c_branch2a (BatchNormalizati (None, None, None, 5 2048        res5c_branch2a[0][0]             \n",
      "__________________________________________________________________________________________________\n",
      "activation_47 (Activation)      (None, None, None, 5 0           bn5c_branch2a[0][0]              \n",
      "__________________________________________________________________________________________________\n",
      "res5c_branch2b (Conv2D)         (None, None, None, 5 2359808     activation_47[0][0]              \n",
      "__________________________________________________________________________________________________\n",
      "bn5c_branch2b (BatchNormalizati (None, None, None, 5 2048        res5c_branch2b[0][0]             \n",
      "__________________________________________________________________________________________________\n",
      "activation_48 (Activation)      (None, None, None, 5 0           bn5c_branch2b[0][0]              \n",
      "__________________________________________________________________________________________________\n",
      "res5c_branch2c (Conv2D)         (None, None, None, 2 1050624     activation_48[0][0]              \n",
      "__________________________________________________________________________________________________\n",
      "bn5c_branch2c (BatchNormalizati (None, None, None, 2 8192        res5c_branch2c[0][0]             \n",
      "__________________________________________________________________________________________________\n",
      "add_16 (Add)                    (None, None, None, 2 0           bn5c_branch2c[0][0]              \n",
      "                                                                 activation_46[0][0]              \n",
      "__________________________________________________________________________________________________\n",
      "activation_49 (Activation)      (None, None, None, 2 0           add_16[0][0]                     \n",
      "__________________________________________________________________________________________________\n",
      "global_average_pooling2d_1 (Glo (None, 2048)         0           activation_49[0][0]              \n",
      "__________________________________________________________________________________________________\n",
      "dense_1 (Dense)                 (None, 512)          1049088     global_average_pooling2d_1[0][0] \n",
      "__________________________________________________________________________________________________\n",
      "dense_2 (Dense)                 (None, 180)          92340       dense_1[0][0]                    \n",
      "==================================================================================================\n",
      "Total params: 24,729,140\n",
      "Trainable params: 24,676,020\n",
      "Non-trainable params: 53,120\n",
      "__________________________________________________________________________________________________\n"
     ]
    }
   ],
   "source": [
    "model.summary()"
   ]
  },
  {
   "cell_type": "markdown",
   "metadata": {
    "colab_type": "text",
    "id": "UciWJpVdbCVi"
   },
   "source": [
    "# Training"
   ]
  },
  {
   "cell_type": "code",
   "execution_count": 9,
   "metadata": {
    "colab": {},
    "colab_type": "code",
    "id": "J2F9DFRNbCVi",
    "scrolled": true
   },
   "outputs": [
    {
     "name": "stdout",
     "output_type": "stream",
     "text": [
      "Epoch 1/20\n",
      "765/765 [==============================] - 303s 396ms/step - loss: 3.2882 - accuracy: 0.3584 - val_loss: 6.5008 - val_accuracy: 0.0257\n",
      "\n",
      "Epoch 00001: saving model to saved-model-01-6.50.hdf5\n",
      "Epoch 2/20\n",
      "765/765 [==============================] - 278s 363ms/step - loss: 1.4661 - accuracy: 0.6888 - val_loss: 2.0954 - val_accuracy: 0.5415\n",
      "\n",
      "Epoch 00002: saving model to saved-model-02-2.10.hdf5\n",
      "Epoch 3/20\n",
      "765/765 [==============================] - 276s 361ms/step - loss: 1.0770 - accuracy: 0.7757 - val_loss: 1.0251 - val_accuracy: 0.7396\n",
      "\n",
      "Epoch 00003: saving model to saved-model-03-1.03.hdf5\n",
      "Epoch 4/20\n",
      "765/765 [==============================] - 283s 370ms/step - loss: 0.8973 - accuracy: 0.8173 - val_loss: 0.5086 - val_accuracy: 0.8618\n",
      "\n",
      "Epoch 00004: saving model to saved-model-04-0.51.hdf5\n",
      "Epoch 5/20\n",
      "765/765 [==============================] - 277s 362ms/step - loss: 0.7603 - accuracy: 0.8465 - val_loss: 1.1026 - val_accuracy: 0.8088\n",
      "\n",
      "Epoch 00005: saving model to saved-model-05-1.10.hdf5\n",
      "Epoch 6/20\n",
      "765/765 [==============================] - 277s 362ms/step - loss: 0.6766 - accuracy: 0.8689 - val_loss: 0.7310 - val_accuracy: 0.8664\n",
      "\n",
      "Epoch 00006: saving model to saved-model-06-0.73.hdf5\n",
      "Epoch 7/20\n",
      "765/765 [==============================] - 277s 362ms/step - loss: 0.6195 - accuracy: 0.8820 - val_loss: 0.6064 - val_accuracy: 0.8848\n",
      "\n",
      "Epoch 00007: saving model to saved-model-07-0.61.hdf5\n",
      "Epoch 8/20\n",
      "765/765 [==============================] - 277s 362ms/step - loss: 0.5576 - accuracy: 0.8967 - val_loss: 1.9213 - val_accuracy: 0.6452\n",
      "\n",
      "Epoch 00008: saving model to saved-model-08-1.92.hdf5\n",
      "Epoch 9/20\n",
      "765/765 [==============================] - 276s 361ms/step - loss: 0.5134 - accuracy: 0.9046 - val_loss: 0.5699 - val_accuracy: 0.8387\n",
      "\n",
      "Epoch 00009: saving model to saved-model-09-0.57.hdf5\n",
      "Epoch 10/20\n",
      "765/765 [==============================] - 276s 361ms/step - loss: 0.4756 - accuracy: 0.9158 - val_loss: 0.5366 - val_accuracy: 0.8975\n",
      "\n",
      "Epoch 00010: saving model to saved-model-10-0.54.hdf5\n",
      "Epoch 11/20\n",
      "765/765 [==============================] - 276s 360ms/step - loss: 0.4400 - accuracy: 0.9224 - val_loss: 0.7718 - val_accuracy: 0.9147\n",
      "\n",
      "Epoch 00011: saving model to saved-model-11-0.77.hdf5\n",
      "Epoch 12/20\n",
      "765/765 [==============================] - 275s 359ms/step - loss: 0.4129 - accuracy: 0.9264 - val_loss: 0.5837 - val_accuracy: 0.8779\n",
      "\n",
      "Epoch 00012: saving model to saved-model-12-0.58.hdf5\n",
      "Epoch 13/20\n",
      "765/765 [==============================] - 276s 360ms/step - loss: 0.3876 - accuracy: 0.9333 - val_loss: 0.5935 - val_accuracy: 0.8514\n",
      "\n",
      "Epoch 00013: saving model to saved-model-13-0.59.hdf5\n",
      "Epoch 14/20\n",
      "765/765 [==============================] - 275s 360ms/step - loss: 0.3585 - accuracy: 0.9398 - val_loss: 0.3290 - val_accuracy: 0.9228\n",
      "\n",
      "Epoch 00014: saving model to saved-model-14-0.33.hdf5\n",
      "Epoch 15/20\n",
      "765/765 [==============================] - 275s 359ms/step - loss: 0.3385 - accuracy: 0.9449 - val_loss: 1.4026 - val_accuracy: 0.8191\n",
      "\n",
      "Epoch 00015: saving model to saved-model-15-1.40.hdf5\n",
      "Epoch 16/20\n",
      "765/765 [==============================] - 276s 360ms/step - loss: 0.3282 - accuracy: 0.9471 - val_loss: 0.8376 - val_accuracy: 0.9286\n",
      "\n",
      "Epoch 00016: saving model to saved-model-16-0.84.hdf5\n",
      "Epoch 17/20\n",
      "765/765 [==============================] - 274s 359ms/step - loss: 0.3075 - accuracy: 0.9508 - val_loss: 0.7740 - val_accuracy: 0.8698\n",
      "\n",
      "Epoch 00017: saving model to saved-model-17-0.77.hdf5\n",
      "Epoch 18/20\n",
      "765/765 [==============================] - 276s 360ms/step - loss: 0.3047 - accuracy: 0.9525 - val_loss: 1.3638 - val_accuracy: 0.7730\n",
      "\n",
      "Epoch 00018: saving model to saved-model-18-1.36.hdf5\n",
      "Epoch 19/20\n",
      "765/765 [==============================] - 276s 360ms/step - loss: 0.2867 - accuracy: 0.9547 - val_loss: 1.3147 - val_accuracy: 0.7212\n",
      "\n",
      "Epoch 00019: saving model to saved-model-19-1.31.hdf5\n",
      "Epoch 20/20\n",
      "765/765 [==============================] - 276s 360ms/step - loss: 0.2627 - accuracy: 0.9599 - val_loss: 0.6030 - val_accuracy: 0.9240\n",
      "\n",
      "Epoch 00020: saving model to saved-model-20-0.60.hdf5\n"
     ]
    }
   ],
   "source": [
    "filepath = \"saved-model-{epoch:02d}-{val_loss:.2f}.hdf5\"\n",
    "saver=ModelCheckpoint(filepath, monitor='val_loss', verbose=1, save_best_only=False, save_weights_only=False, mode='auto', period=1)\n",
    "callbacks_list = [saver]\n",
    "\n",
    "history = model.fit_generator(generator=train_generator,\n",
    "                    steps_per_epoch=int(24497/32),\n",
    "                    validation_data=valid_generator,\n",
    "                    validation_steps=int(900/32),\n",
    "                    callbacks=callbacks_list,\n",
    "                    epochs=20)"
   ]
  },
  {
   "cell_type": "markdown",
   "metadata": {
    "colab_type": "text",
    "id": "YZx28rosbCVq"
   },
   "source": [
    "Training and Validation Learning Curve\n",
    "\n"
   ]
  },
  {
   "cell_type": "code",
   "execution_count": 10,
   "metadata": {
    "colab": {},
    "colab_type": "code",
    "id": "bCOwPPvRbCVr"
   },
   "outputs": [
    {
     "data": {
      "image/png": "[encoded data removed]",
      "text/plain": [
       "<Figure size 432x288 with 1 Axes>"
      ]
     },
     "metadata": {
      "needs_background": "light"
     },
     "output_type": "display_data"
    }
   ],
   "source": [
    "plt.plot(history.history['accuracy'])\n",
    "plt.plot(history.history['val_accuracy'])\n",
    "plt.title('model accuracy')\n",
    "plt.ylabel('accuracy')\n",
    "plt.xlabel('epoch')\n",
    "plt.legend(['train', 'val'], loc='upper left')\n",
    "plt.show()"
   ]
  },
  {
   "cell_type": "markdown",
   "metadata": {
    "colab_type": "text",
    "id": "YZx28rosbCVq"
   },
   "source": [
    "Training and Validation Loss Curve\n",
    "\n"
   ]
  },
  {
   "cell_type": "code",
   "execution_count": 11,
   "metadata": {},
   "outputs": [
    {
     "data": {
      "image/png": "[encoded data removed]",
      "text/plain": [
       "<Figure size 432x288 with 1 Axes>"
      ]
     },
     "metadata": {
      "needs_background": "light"
     },
     "output_type": "display_data"
    }
   ],
   "source": [
    "plt.plot(history.history['loss'])\n",
    "plt.plot(history.history['val_loss'])\n",
    "plt.title('model loss')\n",
    "plt.ylabel('loss')\n",
    "plt.xlabel('epoch')\n",
    "plt.legend(['train', 'val'], loc='upper left')\n",
    "plt.show()"
   ]
  },
  {
   "cell_type": "markdown",
   "metadata": {
    "colab_type": "text",
    "id": "QRDH5py6gwdE"
   },
   "source": [
    "Load Best Model"
   ]
  },
  {
   "cell_type": "code",
   "execution_count": 8,
   "metadata": {
    "colab": {},
    "colab_type": "code",
    "id": "hup2RGazq34b"
   },
   "outputs": [],
   "source": [
    "model = load_model('saved-model-14-0.33.hdf5') #it converged here"
   ]
  },
  {
   "cell_type": "code",
   "execution_count": 11,
   "metadata": {},
   "outputs": [
    {
     "name": "stdout",
     "output_type": "stream",
     "text": [
      "Testing loss: 0.14913460612297058\n",
      "Testing accuracy: 0.9355555772781372\n"
     ]
    }
   ],
   "source": [
    "print('Testing loss:', score[0])\n",
    "print('Testing accuracy:', score[1])"
   ]
  },
  {
   "cell_type": "markdown",
   "metadata": {
    "colab_type": "text",
    "id": "xMKQsUdtbCVu"
   },
   "source": [
    "# Evaluate Test Results and Classification Report"
   ]
  },
  {
   "cell_type": "code",
   "execution_count": null,
   "metadata": {},
   "outputs": [],
   "source": [
    "labels = test_generator.class_indices\n",
    "real = []\n",
    "pred = []"
   ]
  },
  {
   "cell_type": "code",
   "execution_count": null,
   "metadata": {},
   "outputs": [],
   "source": [
    "results = model.predict_generator(generator=test_generator,verbose=1,workers=1,max_queue_size=1)\n",
    "y_pred = np.argmax(results,axis=-1)"
   ]
  },
  {
   "cell_type": "code",
   "execution_count": 13,
   "metadata": {},
   "outputs": [
    {
     "name": "stdout",
     "output_type": "stream",
     "text": [
      "[[5 0 0 ... 0 0 0]\n",
      " [0 5 0 ... 0 0 0]\n",
      " [0 0 5 ... 0 0 0]\n",
      " ...\n",
      " [0 0 0 ... 5 0 0]\n",
      " [0 0 0 ... 0 5 0]\n",
      " [0 0 0 ... 0 0 4]]\n"
     ]
    },
    {
     "name": "stderr",
     "output_type": "stream",
     "text": [
      "/usr/local/lib/python3.6/site-packages/ipykernel_launcher.py:6: UserWarning: Update your `evaluate_generator` call to the Keras 2 API: `evaluate_generator(generator=<keras.pre..., workers=1, max_queue_size=1, use_multiprocessing=False)`\n",
      "  \n"
     ]
    },
    {
     "name": "stdout",
     "output_type": "stream",
     "text": [
      "Testing loss:0.14913460612297058\n",
      "Testing Accuracy:93.55555772781372\n",
      "                           precision    recall  f1-score   support\n",
      "\n",
      "                ALBATROSS       0.56      1.00      0.71         5\n",
      "     ALEXANDRINE PARAKEET       1.00      1.00      1.00         5\n",
      "          AMERICAN AVOCET       0.83      1.00      0.91         5\n",
      "         AMERICAN BITTERN       1.00      1.00      1.00         5\n",
      "            AMERICAN COOT       1.00      1.00      1.00         5\n",
      "       AMERICAN GOLDFINCH       1.00      1.00      1.00         5\n",
      "         AMERICAN KESTREL       1.00      1.00      1.00         5\n",
      "           AMERICAN PIPIT       1.00      1.00      1.00         5\n",
      "        AMERICAN REDSTART       0.83      1.00      0.91         5\n",
      "                  ANHINGA       1.00      1.00      1.00         5\n",
      "        ANNAS HUMMINGBIRD       1.00      1.00      1.00         5\n",
      "                  ANTBIRD       1.00      0.80      0.89         5\n",
      "          ARARIPE MANAKIN       1.00      1.00      1.00         5\n",
      "               BALD EAGLE       1.00      1.00      1.00         5\n",
      "         BALTIMORE ORIOLE       1.00      1.00      1.00         5\n",
      "               BANANAQUIT       1.00      1.00      1.00         5\n",
      "        BAR-TAILED GODWIT       1.00      1.00      1.00         5\n",
      "                 BARN OWL       1.00      1.00      1.00         5\n",
      "             BARN SWALLOW       1.00      1.00      1.00         5\n",
      "     BAY-BREASTED WARBLER       1.00      1.00      1.00         5\n",
      "        BELTED KINGFISHER       1.00      1.00      1.00         5\n",
      "         BIRD OF PARADISE       0.83      1.00      0.91         5\n",
      "          BLACK FRANCOLIN       1.00      1.00      1.00         5\n",
      "            BLACK SKIMMER       1.00      0.60      0.75         5\n",
      "               BLACK SWAN       0.83      1.00      0.91         5\n",
      "   BLACK THROATED WARBLER       1.00      1.00      1.00         5\n",
      "            BLACK VULTURE       1.00      1.00      1.00         5\n",
      "   BLACK-CAPPED CHICKADEE       1.00      0.40      0.57         5\n",
      "       BLACK-NECKED GREBE       1.00      1.00      1.00         5\n",
      "     BLACKBURNIAM WARBLER       1.00      1.00      1.00         5\n",
      "              BLUE GROUSE       1.00      1.00      1.00         5\n",
      "               BLUE HERON       0.83      1.00      0.91         5\n",
      "                 BOBOLINK       1.00      0.80      0.89         5\n",
      "           BROWN THRASHER       1.00      1.00      1.00         5\n",
      "              CACTUS WREN       1.00      0.80      0.89         5\n",
      "        CALIFORNIA CONDOR       1.00      0.80      0.89         5\n",
      "          CALIFORNIA GULL       1.00      0.60      0.75         5\n",
      "         CALIFORNIA QUAIL       0.83      1.00      0.91         5\n",
      "                   CANARY       1.00      1.00      1.00         5\n",
      "         CAPE MAY WARBLER       1.00      1.00      1.00         5\n",
      "        CARMINE BEE-EATER       1.00      0.40      0.57         5\n",
      "             CASPIAN TERN       1.00      0.80      0.89         5\n",
      "                CASSOWARY       1.00      0.80      0.89         5\n",
      "          CHARA DE COLLAR       1.00      1.00      1.00         5\n",
      "         CHIPPING SPARROW       1.00      0.80      0.89         5\n",
      "            CINNAMON TEAL       1.00      1.00      1.00         5\n",
      "        COCK OF THE  ROCK       1.00      1.00      1.00         5\n",
      "                 COCKATOO       0.83      1.00      0.91         5\n",
      "           COMMON GRACKLE       1.00      1.00      1.00         5\n",
      "      COMMON HOUSE MARTIN       0.71      1.00      0.83         5\n",
      "              COMMON LOON       0.83      1.00      0.91         5\n",
      "          COMMON POORWILL       1.00      0.80      0.89         5\n",
      "          COMMON STARLING       1.00      1.00      1.00         5\n",
      "          COUCHS KINGBIRD       1.00      1.00      1.00         5\n",
      "           CRESTED AUKLET       1.00      0.60      0.75         5\n",
      "         CRESTED CARACARA       1.00      0.80      0.89         5\n",
      "                     CROW       1.00      1.00      1.00         5\n",
      "           CROWNED PIGEON       1.00      1.00      1.00         5\n",
      "               CUBAN TODY       1.00      1.00      1.00         5\n",
      "     CURL CRESTED ARACURI       1.00      1.00      1.00         5\n",
      "         D-ARNAUDS BARBET       0.83      1.00      0.91         5\n",
      "          DARK EYED JUNCO       1.00      1.00      1.00         5\n",
      "                  DOVEKIE       1.00      0.60      0.75         5\n",
      "         DOWNY WOODPECKER       1.00      1.00      1.00         5\n",
      "         EASTERN BLUEBIRD       1.00      1.00      1.00         5\n",
      "       EASTERN MEADOWLARK       0.56      1.00      0.71         5\n",
      "          EASTERN ROSELLA       1.00      1.00      1.00         5\n",
      "            EASTERN TOWEE       1.00      0.80      0.89         5\n",
      "           ELEGANT TROGON       1.00      1.00      1.00         5\n",
      "        ELLIOTS  PHEASANT       0.80      0.80      0.80         5\n",
      "          EMPEROR PENGUIN       0.83      1.00      0.91         5\n",
      "                      EMU       1.00      1.00      1.00         5\n",
      "          EURASIAN MAGPIE       1.00      1.00      1.00         5\n",
      "         EVENING GROSBEAK       1.00      1.00      1.00         5\n",
      "            FLAME TANAGER       0.83      1.00      0.91         5\n",
      "                 FLAMINGO       0.83      1.00      0.91         5\n",
      "                  FRIGATE       1.00      1.00      1.00         5\n",
      "          GILA WOODPECKER       1.00      1.00      1.00         5\n",
      "              GLOSSY IBIS       1.00      1.00      1.00         5\n",
      "        GOLD WING WARBLER       1.00      1.00      1.00         5\n",
      "      GOLDEN CHLOROPHONIA       1.00      1.00      1.00         5\n",
      "             GOLDEN EAGLE       1.00      0.60      0.75         5\n",
      "          GOLDEN PHEASANT       1.00      1.00      1.00         5\n",
      "           GOULDIAN FINCH       0.83      1.00      0.91         5\n",
      "             GRAY CATBIRD       1.00      1.00      1.00         5\n",
      "           GRAY PARTRIDGE       1.00      1.00      1.00         5\n",
      "                GREEN JAY       1.00      1.00      1.00         5\n",
      "              GREY PLOVER       1.00      0.80      0.89         5\n",
      "               GUINEAFOWL       1.00      1.00      1.00         5\n",
      "           HAWAIIAN GOOSE       1.00      0.80      0.89         5\n",
      "         HOODED MERGANSER       1.00      1.00      1.00         5\n",
      "                  HOOPOES       1.00      1.00      1.00         5\n",
      "                 HORNBILL       1.00      1.00      1.00         5\n",
      "              HOUSE FINCH       1.00      1.00      1.00         5\n",
      "            HOUSE SPARROW       1.00      0.80      0.89         5\n",
      "           HYACINTH MACAW       1.00      1.00      1.00         5\n",
      "                INCA TERN       1.00      1.00      1.00         5\n",
      "           INDIGO BUNTING       1.00      1.00      1.00         5\n",
      "                   JABIRU       1.00      1.00      1.00         5\n",
      "             JAVAN MAGPIE       1.00      1.00      1.00         5\n",
      "                 KILLDEAR       1.00      1.00      1.00         5\n",
      "             KING VULTURE       0.71      1.00      0.83         5\n",
      "             LARK BUNTING       1.00      1.00      1.00         5\n",
      "             LILAC ROLLER       1.00      0.80      0.89         5\n",
      "           LONG-EARED OWL       1.00      1.00      1.00         5\n",
      "                    MALEO       1.00      1.00      1.00         5\n",
      "             MALLARD DUCK       1.00      1.00      1.00         5\n",
      "             MANDRIN DUCK       1.00      1.00      1.00         5\n",
      "            MARABOU STORK       0.71      1.00      0.83         5\n",
      "             MASKED BOOBY       1.00      1.00      1.00         5\n",
      "         MIKADO  PHEASANT       1.00      0.80      0.89         5\n",
      "            MOURNING DOVE       1.00      1.00      1.00         5\n",
      "                     MYNA       0.50      1.00      0.67         5\n",
      "           NICOBAR PIGEON       1.00      1.00      1.00         5\n",
      "        NORTHERN CARDINAL       1.00      0.80      0.89         5\n",
      "         NORTHERN FLICKER       1.00      1.00      1.00         5\n",
      "          NORTHERN GANNET       0.71      1.00      0.83         5\n",
      "         NORTHERN GOSHAWK       0.60      0.60      0.60         5\n",
      "          NORTHERN JACANA       1.00      0.80      0.89         5\n",
      "     NORTHERN MOCKINGBIRD       1.00      1.00      1.00         5\n",
      "      NORTHERN RED BISHOP       0.62      1.00      0.77         5\n",
      "         OCELLATED TURKEY       1.00      0.80      0.89         5\n",
      "                   OSPREY       0.71      1.00      0.83         5\n",
      "                  OSTRICH       1.00      1.00      1.00         5\n",
      "           PAINTED BUNTIG       1.00      1.00      1.00         5\n",
      "         PARADISE TANAGER       1.00      1.00      1.00         5\n",
      "              PARUS MAJOR       0.83      1.00      0.91         5\n",
      "                  PEACOCK       1.00      1.00      1.00         5\n",
      "                  PELICAN       0.40      0.80      0.53         5\n",
      "         PEREGRINE FALCON       1.00      0.80      0.89         5\n",
      "               PINK ROBIN       1.00      1.00      1.00         5\n",
      "                   PUFFIN       1.00      1.00      1.00         5\n",
      "             PURPLE FINCH       0.83      1.00      0.91         5\n",
      "         PURPLE GALLINULE       1.00      1.00      1.00         5\n",
      "            PURPLE MARTIN       0.83      1.00      0.91         5\n",
      "          PURPLE SWAMPHEN       0.80      0.80      0.80         5\n",
      "                  QUETZAL       1.00      1.00      1.00         5\n",
      "         RAINBOW LORIKEET       1.00      1.00      1.00         5\n",
      "      RED FACED CORMORANT       1.00      1.00      1.00         5\n",
      "    RED HEADED WOODPECKER       1.00      1.00      1.00         5\n",
      "   RED THROATED BEE EATER       1.00      1.00      1.00         5\n",
      "     RED WINGED BLACKBIRD       1.00      1.00      1.00         5\n",
      "      RED WISKERED BULBUL       1.00      1.00      1.00         5\n",
      "     RING-NECKED PHEASANT       0.83      1.00      0.91         5\n",
      "               ROADRUNNER       0.83      1.00      0.91         5\n",
      "                    ROBIN       1.00      1.00      1.00         5\n",
      "                ROCK DOVE       1.00      1.00      1.00         5\n",
      "      ROSY FACED LOVEBIRD       1.00      1.00      1.00         5\n",
      "        ROUGH LEG BUZZARD       1.00      0.80      0.89         5\n",
      "RUBY THROATED HUMMINGBIRD       1.00      1.00      1.00         5\n",
      "        RUFOUS KINGFISHER       1.00      1.00      1.00         5\n",
      "            RUFUOS MOTMOT       1.00      1.00      1.00         5\n",
      "              SAND MARTIN       1.00      1.00      1.00         5\n",
      "             SCARLET IBIS       1.00      0.60      0.75         5\n",
      "            SCARLET MACAW       1.00      1.00      1.00         5\n",
      "                 SHOEBILL       0.75      0.60      0.67         5\n",
      "              SNOWY EGRET       1.00      1.00      1.00         5\n",
      "                     SORA       1.00      1.00      1.00         5\n",
      "            SPLENDID WREN       1.00      1.00      1.00         5\n",
      "                SPOONBILL       0.75      0.60      0.67         5\n",
      "  STORK BILLED KINGFISHER       1.00      1.00      1.00         5\n",
      "         STRAWBERRY FINCH       1.00      1.00      1.00         5\n",
      "            TAIWAN MAGPIE       1.00      1.00      1.00         5\n",
      "                TEAL DUCK       0.83      1.00      0.91         5\n",
      "                TIT MOUSE       1.00      1.00      1.00         5\n",
      "                  TOUCHAN       1.00      1.00      1.00         5\n",
      "            TRUMPTER SWAN       1.00      0.60      0.75         5\n",
      "           TURKEY VULTURE       1.00      0.80      0.89         5\n",
      "         TURQUOISE MOTMOT       1.00      1.00      1.00         5\n",
      "            VARIED THRUSH       1.00      1.00      1.00         5\n",
      "     VENEZUELIAN TROUPIAL       0.83      1.00      0.91         5\n",
      "      VERMILION FLYCATHER       1.00      0.80      0.89         5\n",
      "     VIOLET GREEN SWALLOW       1.00      1.00      1.00         5\n",
      "       WESTERN MEADOWLARK       1.00      0.40      0.57         5\n",
      "     WHITE CHEEKED TURACO       1.00      0.80      0.89         5\n",
      "      WHITE TAILED TROPIC       1.00      0.60      0.75         5\n",
      "              WILD TURKEY       1.00      1.00      1.00         5\n",
      " WILSONS BIRD OF PARADISE       1.00      1.00      1.00         5\n",
      "                WOOD DUCK       1.00      1.00      1.00         5\n",
      "  YELLOW HEADED BLACKBIRD       1.00      0.80      0.89         5\n",
      "\n",
      "                 accuracy                           0.94       900\n",
      "                macro avg       0.95      0.94      0.94       900\n",
      "             weighted avg       0.95      0.94      0.94       900\n",
      "\n"
     ]
    }
   ],
   "source": [
    "true_classes = test_generator.classes\n",
    "\n",
    "class_labels = list(test_generator.class_indices.keys())\n",
    "\n",
    "print(confusion_matrix(test_generator.classes, y_pred))\n",
    "results = model.evaluate_generator(generator=test_generator,workers=1,pickle_safe=False,max_queue_size=1)\n",
    "print('Testing loss:' + str(results[0]))\n",
    "print('Testing Accuracy:' + str(results[1]*100))\n",
    "\n",
    "report = classification_report(true_classes, y_pred, target_names=class_labels)\n",
    "print(report)"
   ]
  },
  {
   "cell_type": "code",
   "execution_count": null,
   "metadata": {
    "colab": {},
    "colab_type": "code",
    "id": "VOIV7DvjbCV3"
   },
   "outputs": [],
   "source": []
  }
 ],
 "metadata": {
  "colab": {
   "collapsed_sections": [
    "xMKQsUdtbCVu"
   ],
   "name": "bird_multiclassification.ipynb",
   "provenance": []
  },
  "kernelspec": {
   "display_name": "Python 3",
   "language": "python",
   "name": "python3"
  },
  "language_info": {
   "codemirror_mode": {
    "name": "ipython",
    "version": 3
   },
   "file_extension": ".py",
   "mimetype": "text/x-python",
   "name": "python",
   "nbconvert_exporter": "python",
   "pygments_lexer": "ipython3",
   "version": "3.6.9"
  }
 },
 "nbformat": 4,
 "nbformat_minor": 4
}
